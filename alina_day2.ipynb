{
  "nbformat": 4,
  "nbformat_minor": 0,
  "metadata": {
    "colab": {
      "provenance": [],
      "authorship_tag": "ABX9TyNdFtikZvrfkICzNlcaCLdi",
      "include_colab_link": true
    },
    "kernelspec": {
      "name": "python3",
      "display_name": "Python 3"
    },
    "language_info": {
      "name": "python"
    }
  },
  "cells": [
    {
      "cell_type": "markdown",
      "metadata": {
        "id": "view-in-github",
        "colab_type": "text"
      },
      "source": [
        "<a href=\"https://colab.research.google.com/github/AlinaMidhath/PYTHON-DA-ML/blob/main/alina_day2.ipynb\" target=\"_parent\"><img src=\"https://colab.research.google.com/assets/colab-badge.svg\" alt=\"Open In Colab\"/></a>"
      ]
    },
    {
      "cell_type": "markdown",
      "source": [
        "**LISTS**"
      ],
      "metadata": {
        "id": "HnQ4PKtNqbpx"
      }
    },
    {
      "cell_type": "code",
      "source": [
        "mylist = [2, 11, 15.0, \"alina\", True, False, ]\n",
        "print(mylist)#accessing entire list\n",
        "print(mylist[3])#accessing index at a particular index\n",
        "print(mylist[-1])#accessing the last element\n",
        "print(mylist[-2])"
      ],
      "metadata": {
        "colab": {
          "base_uri": "https://localhost:8080/"
        },
        "id": "oCTrNjslqkjl",
        "outputId": "a360be9b-acc7-4fda-c945-1eaaeaae2ead"
      },
      "execution_count": null,
      "outputs": [
        {
          "output_type": "stream",
          "name": "stdout",
          "text": [
            "[2, 11, 15.0, 'alina', True, False]\n",
            "alina\n",
            "False\n",
            "True\n"
          ]
        }
      ]
    },
    {
      "cell_type": "code",
      "source": [
        "#SLICING\n",
        "print(mylist[2:5])#will start at index 2 (included) and end at index 5 (not included).\n",
        "print(mylist[2: ])#to print rest of the elements in the list from element at index 2\n",
        "print(mylist[ :2])#to print element up till element at index 1(including 1th element)\n",
        "print(mylist[ : ])#to print the entire list\n",
        "print(mylist[-4:-2])#using negative indeces\n",
        "if \"alina\" in mylist:  #Check if Item Exists   To determine if a specified item is present in a list use the in keyword\n",
        "  print(\"yes\")"
      ],
      "metadata": {
        "colab": {
          "base_uri": "https://localhost:8080/"
        },
        "id": "1hWCRQogsC63",
        "outputId": "3a5f1e54-342d-4361-9a92-58d65afe678f"
      },
      "execution_count": null,
      "outputs": [
        {
          "output_type": "stream",
          "name": "stdout",
          "text": [
            "[15.0, 'alina', True]\n",
            "[15.0, 'alina', True, False]\n",
            "[2, 11]\n",
            "[2, 11, 15.0, 'alina', True, False]\n",
            "[15.0, 'alina']\n",
            "yes\n"
          ]
        }
      ]
    },
    {
      "cell_type": "code",
      "source": [
        "#ADDING ELEMENTS TO THE LIST\n",
        "mylist = [2, 11, 15.0, \"alinak\", True, False, ]\n",
        "mylist[1] = \"nov\"\n",
        "print(mylist)\n",
        "mylist[3:4] = \"syeda\",\"alinak\"\n",
        "print(mylist)\n",
        "mylist[3:4] = \"syeda\",\"alina\",\"midhath\"#The length of the list will change when the number of items inserted does not match the number of items replaced\n",
        "print(mylist)\n",
        "mylist.insert(1, 11)#To insert a new list item, without replacing any of the existing values, we can use the insert() method.\n",
        "print(mylist)\n",
        "mylist.append(4)#To add an item to the end of the list, use the append() method\n",
        "print(mylist)\n"
      ],
      "metadata": {
        "colab": {
          "base_uri": "https://localhost:8080/"
        },
        "id": "GlBwbh8QwUT3",
        "outputId": "994fc64f-6f27-4c49-f1e8-13b6069c3558"
      },
      "execution_count": null,
      "outputs": [
        {
          "output_type": "stream",
          "name": "stdout",
          "text": [
            "[2, 'nov', 15.0, 'alinak', True, False]\n",
            "[2, 'nov', 15.0, 'syeda', 'alinak', True, False]\n",
            "[2, 'nov', 15.0, 'syeda', 'alina', 'midhath', 'alinak', True, False]\n",
            "[2, 11, 'nov', 15.0, 'syeda', 'alina', 'midhath', 'alinak', True, False]\n",
            "[2, 11, 'nov', 15.0, 'syeda', 'alina', 'midhath', 'alinak', True, False, 4]\n"
          ]
        }
      ]
    },
    {
      "cell_type": "code",
      "source": [
        "#REMOVING ELEMENTS\n",
        "mylist.remove(\"alinak\")\n",
        "print(mylist)\n",
        "mylist.pop(1)#The pop() method removes the specified index.\n",
        "print(mylist)\n",
        "mylist.pop()#If you do not specify the index, the pop() method removes the last item\n",
        "print(mylist)\n",
        "del mylist[0]#The del keyword also removes the specified index\n",
        "print(mylist)\n",
        "a = [1, 2, 3]\n",
        "b = [4, 5, 6]\n",
        "a.clear()#The clear() method empties the list.\n",
        "print(a)\n",
        "del(b)#The del keyword can delete the list completely."
      ],
      "metadata": {
        "colab": {
          "base_uri": "https://localhost:8080/"
        },
        "id": "_thFbUkb905L",
        "outputId": "eb1a443c-e6ae-4aac-ec2b-72bb9c80083b"
      },
      "execution_count": null,
      "outputs": [
        {
          "output_type": "stream",
          "name": "stdout",
          "text": [
            "[2, 11, 'nov', 15.0, 'syeda', 'alina', 'midhath', True, False, 4]\n",
            "[2, 'nov', 15.0, 'syeda', 'alina', 'midhath', True, False, 4]\n",
            "[2, 'nov', 15.0, 'syeda', 'alina', 'midhath', True, False]\n",
            "['nov', 15.0, 'syeda', 'alina', 'midhath', True, False]\n",
            "[]\n"
          ]
        }
      ]
    },
    {
      "cell_type": "code",
      "source": [
        "#loops\n",
        "for x in mylist:\n",
        "  print(x)\n",
        "for i in range(len(mylist)):\n",
        "  print(mylist[i])"
      ],
      "metadata": {
        "colab": {
          "base_uri": "https://localhost:8080/"
        },
        "id": "IWrq_LORCLPD",
        "outputId": "38bcbd10-075c-49a8-b536-1c646a392afc"
      },
      "execution_count": null,
      "outputs": [
        {
          "output_type": "stream",
          "name": "stdout",
          "text": [
            "nov\n",
            "15.0\n",
            "syeda\n",
            "alina\n",
            "midhath\n",
            "True\n",
            "False\n",
            "nov\n",
            "15.0\n",
            "syeda\n",
            "alina\n",
            "midhath\n",
            "True\n",
            "False\n"
          ]
        }
      ]
    },
    {
      "cell_type": "code",
      "source": [
        "#sorting\n",
        "#mylist.sort()not supported between instances of 'float' and 'str'\n",
        "abc = [2,5,4, 8,6, 9]\n",
        "abc.sort()#ascending order\n",
        "print(abc)\n",
        "d =[\"mango\", \"apple\", \"orange\", \"watermelon\", \"banana\"]\n",
        "d.sort()\n",
        "print(d)\n",
        "abc.sort(reverse=True)#descending order\n",
        "print(abc)\n",
        "d.sort(reverse = True)\n",
        "print(d)"
      ],
      "metadata": {
        "colab": {
          "base_uri": "https://localhost:8080/"
        },
        "id": "nu3nDMxdDgRm",
        "outputId": "7cabce82-1bb7-4441-ca13-5b0745e1916a"
      },
      "execution_count": null,
      "outputs": [
        {
          "output_type": "stream",
          "name": "stdout",
          "text": [
            "[2, 4, 5, 6, 8, 9]\n",
            "['apple', 'banana', 'mango', 'orange', 'watermelon']\n",
            "[9, 8, 6, 5, 4, 2]\n",
            "['watermelon', 'orange', 'mango', 'banana', 'apple']\n"
          ]
        }
      ]
    },
    {
      "cell_type": "code",
      "source": [
        "#joining lists\n",
        "a = [1, 2, 3]\n",
        "b = [4, 5, 6]\n",
        "a = a+b\n",
        "print(a)\n",
        "a = [1, 2, 3]\n",
        "b = [4, 5, 6]\n",
        "a.append(b)\n",
        "print(a)\n",
        "a = [1, 2, 3]\n",
        "b = [4, 5, 6]\n",
        "for x in b:\n",
        "  a.append(x)\n",
        "print(a)\n",
        "a = [1, 2, 3]\n",
        "b = [4, 5, 6]\n",
        "a.extend(b)\n",
        "print(a)"
      ],
      "metadata": {
        "colab": {
          "base_uri": "https://localhost:8080/"
        },
        "id": "GufYLGYuE87y",
        "outputId": "6d09d58e-4c9e-4bec-ae41-31b7dca48996"
      },
      "execution_count": null,
      "outputs": [
        {
          "output_type": "stream",
          "name": "stdout",
          "text": [
            "[1, 2, 3, 4, 5, 6]\n",
            "[1, 2, 3, [4, 5, 6]]\n",
            "[1, 2, 3, 4, 5, 6]\n",
            "[1, 2, 3, 4, 5, 6]\n"
          ]
        }
      ]
    },
    {
      "cell_type": "code",
      "source": [
        "#copy\n",
        "newlist = mylist.copy()\n",
        "print(newlist)\n",
        "alist = list(newlist)\n",
        "print(alist)"
      ],
      "metadata": {
        "colab": {
          "base_uri": "https://localhost:8080/"
        },
        "id": "VO3D-ES8F9Di",
        "outputId": "2ddf923a-5fcc-4fb1-8b4f-783e6b6bb17b"
      },
      "execution_count": null,
      "outputs": [
        {
          "output_type": "stream",
          "name": "stdout",
          "text": [
            "['nov', 15.0, 'syeda', 'alina', 'midhath', True, False]\n",
            "['nov', 15.0, 'syeda', 'alina', 'midhath', True, False]\n"
          ]
        }
      ]
    },
    {
      "cell_type": "markdown",
      "source": [
        "**Tuples**"
      ],
      "metadata": {
        "id": "4crq4Rt1Gtlm"
      }
    },
    {
      "cell_type": "code",
      "source": [
        "mytuple = tuple(mylist)#type casting\n",
        "print(mytuple)\n",
        "#ACCESSING TUPLE\n",
        "print(mytuple[1])\n",
        "print(mytuple[-1])\n",
        "print(mytuple[2:5])\n",
        "print(mytuple[2: ])\n",
        "print(mytuple[ :5])\n",
        "print(mytuple[-4:-2])\n",
        "print(mytuple[ : ])"
      ],
      "metadata": {
        "colab": {
          "base_uri": "https://localhost:8080/"
        },
        "id": "LA-8VQaxGxf5",
        "outputId": "2f85a7b4-de14-448e-b17b-c1acb288b3f9"
      },
      "execution_count": null,
      "outputs": [
        {
          "output_type": "stream",
          "name": "stdout",
          "text": [
            "('nov', 15.0, 'syeda', 'alina', 'midhath', True, False)\n",
            "15.0\n",
            "False\n",
            "('syeda', 'alina', 'midhath')\n",
            "('syeda', 'alina', 'midhath', True, False)\n",
            "('nov', 15.0, 'syeda', 'alina', 'midhath')\n",
            "('alina', 'midhath')\n",
            "('nov', 15.0, 'syeda', 'alina', 'midhath', True, False)\n"
          ]
        }
      ]
    },
    {
      "cell_type": "code",
      "source": [
        "#UNPACKING\n",
        "newtuple = (\"mango\", \"apple\", \"orange\", \"watermelon\", \"banana\")\n",
        "(black , blue, pink, red, purple) = newtuple\n",
        "print(red)\n",
        "print(pink)\n",
        "print(blue)\n",
        "print(purple)\n",
        "print(black)\n",
        "print()\n",
        "(black , blue, *pink) = newtuple\n",
        "print(black)\n",
        "print(blue)\n",
        "print(pink)\n",
        "print()\n",
        "(black , *blue, pink) = newtuple\n",
        "print(black)\n",
        "print(blue)\n",
        "print(pink)"
      ],
      "metadata": {
        "colab": {
          "base_uri": "https://localhost:8080/"
        },
        "id": "0m2fQTQhImkq",
        "outputId": "e714066d-e4f3-4553-8631-59ed3dbc66c6"
      },
      "execution_count": null,
      "outputs": [
        {
          "output_type": "stream",
          "name": "stdout",
          "text": [
            "watermelon\n",
            "orange\n",
            "apple\n",
            "banana\n",
            "mango\n",
            "\n",
            "mango\n",
            "apple\n",
            "['orange', 'watermelon', 'banana']\n",
            "\n",
            "mango\n",
            "['apple', 'orange', 'watermelon']\n",
            "banana\n"
          ]
        }
      ]
    },
    {
      "cell_type": "code",
      "source": [
        "#LOOPS\n",
        "for i in newtuple:\n",
        "  print(i)\n",
        "print()\n",
        "for i in range(len(newtuple)):\n",
        "  print(newtuple[i])"
      ],
      "metadata": {
        "colab": {
          "base_uri": "https://localhost:8080/"
        },
        "id": "VmsaWOMnKLZA",
        "outputId": "a0b546ca-796f-469b-92e7-2564fb40a791"
      },
      "execution_count": null,
      "outputs": [
        {
          "output_type": "stream",
          "name": "stdout",
          "text": [
            "mango\n",
            "apple\n",
            "orange\n",
            "watermelon\n",
            "banana\n",
            "\n",
            "mango\n",
            "apple\n",
            "orange\n",
            "watermelon\n",
            "banana\n"
          ]
        }
      ]
    },
    {
      "cell_type": "code",
      "source": [
        "#JOINING\n",
        "d = (1, 2, 3, 4)\n",
        "e = (5, 6, 7, 8)\n",
        "f = d+e\n",
        "print(f)\n",
        "f= f*2\n",
        "print(f)"
      ],
      "metadata": {
        "colab": {
          "base_uri": "https://localhost:8080/"
        },
        "id": "Va1_uWDwKwPi",
        "outputId": "5064cdb8-e637-4433-8fc5-1da81fb5aa8c"
      },
      "execution_count": null,
      "outputs": [
        {
          "output_type": "stream",
          "name": "stdout",
          "text": [
            "(1, 2, 3, 4, 5, 6, 7, 8)\n",
            "(1, 2, 3, 4, 5, 6, 7, 8, 1, 2, 3, 4, 5, 6, 7, 8)\n"
          ]
        }
      ]
    },
    {
      "cell_type": "markdown",
      "source": [
        "**STRINGS**"
      ],
      "metadata": {
        "id": "NOV_CuXBLwqv"
      }
    },
    {
      "cell_type": "code",
      "source": [
        "a = \"hello world\"\n",
        "print(a)\n",
        "print()\n",
        "print(a[1])\n",
        "print(a[-1])\n",
        "for x in a:\n",
        "  print(x)\n",
        "print()\n",
        "print(len(a))\n",
        "print(\"hello\" in a) #To check if a certain phrase or character is present in a string, we can use the keyword in\n",
        "print(\"wor\" in a)\n",
        "print(\"cost\" in a)\n",
        "if \"hell\" in a:\n",
        "  print(\"yes\")\n",
        "print(\"cost \" not in a)\n",
        "if \"aaa\" not in a:\n",
        "  print(\"yes\")"
      ],
      "metadata": {
        "colab": {
          "base_uri": "https://localhost:8080/"
        },
        "id": "8TF9BnvtL4HD",
        "outputId": "ef8103cd-dad1-49d5-cab9-b664ab2bc141"
      },
      "execution_count": null,
      "outputs": [
        {
          "output_type": "stream",
          "name": "stdout",
          "text": [
            "hello world\n",
            "\n",
            "e\n",
            "h\n",
            "e\n",
            "l\n",
            "l\n",
            "o\n",
            " \n",
            "w\n",
            "o\n",
            "r\n",
            "l\n",
            "d\n",
            "\n",
            "11\n",
            "True\n",
            "True\n",
            "False\n",
            "yes\n",
            "True\n",
            "yes\n"
          ]
        }
      ]
    },
    {
      "cell_type": "code",
      "source": [
        "#slicing\n",
        "print(a[2:5])\n",
        "print(a[2: ])\n",
        "print(a[ :5])\n",
        "print(a[-6:-2])\n",
        "print(a[ : ])"
      ],
      "metadata": {
        "colab": {
          "base_uri": "https://localhost:8080/"
        },
        "id": "_F2H9WFKNkPG",
        "outputId": "0595cb86-9b9b-449e-9a3d-dbaea1f2bbe6"
      },
      "execution_count": null,
      "outputs": [
        {
          "output_type": "stream",
          "name": "stdout",
          "text": [
            "llo\n",
            "llo world\n",
            "hello\n",
            " wor\n",
            "hello world\n"
          ]
        }
      ]
    },
    {
      "cell_type": "code",
      "source": [
        "#modify\n",
        "print(a.upper())\n",
        "print(a.lower())\n",
        "print(a.strip())#removes space from begining or end"
      ],
      "metadata": {
        "colab": {
          "base_uri": "https://localhost:8080/"
        },
        "id": "-0SwrvtvONb3",
        "outputId": "3b9651fe-1679-4fd5-d342-cac5d19ced91"
      },
      "execution_count": null,
      "outputs": [
        {
          "output_type": "stream",
          "name": "stdout",
          "text": [
            "HELLO WORLD\n",
            "hello world\n",
            "hello world\n"
          ]
        }
      ]
    },
    {
      "cell_type": "code",
      "source": [
        "#concatinate\n",
        "a = \"hello\"\n",
        "b = \"world\"\n",
        "c= a+b\n",
        "print (c)\n",
        "print(a + \" \" + b)\n",
        "#it is not possible to concatinate string but with int we can do it using format\n",
        "age = 20\n",
        "name = \"Syeda Alina {}\"\n",
        "print(name.format(age))# can be done for multiple values as well"
      ],
      "metadata": {
        "colab": {
          "base_uri": "https://localhost:8080/"
        },
        "id": "KLsC1kzhOquk",
        "outputId": "e6bdc175-ae1b-4578-b527-a1cf3b18a5f8"
      },
      "execution_count": null,
      "outputs": [
        {
          "output_type": "stream",
          "name": "stdout",
          "text": [
            "helloworld\n",
            "hello world\n",
            "Syeda Alina 20\n"
          ]
        }
      ]
    }
  ]
}