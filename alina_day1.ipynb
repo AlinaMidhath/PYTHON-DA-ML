{
  "nbformat": 4,
  "nbformat_minor": 0,
  "metadata": {
    "colab": {
      "provenance": [],
      "authorship_tag": "ABX9TyNhTVsITXc2kauMTYbQOOYa",
      "include_colab_link": true
    },
    "kernelspec": {
      "name": "python3",
      "display_name": "Python 3"
    },
    "language_info": {
      "name": "python"
    }
  },
  "cells": [
    {
      "cell_type": "markdown",
      "metadata": {
        "id": "view-in-github",
        "colab_type": "text"
      },
      "source": [
        "<a href=\"https://colab.research.google.com/github/AlinaMidhath/PYTHON-DA-ML/blob/main/alina_day1.ipynb\" target=\"_parent\"><img src=\"https://colab.research.google.com/assets/colab-badge.svg\" alt=\"Open In Colab\"/></a>"
      ]
    },
    {
      "cell_type": "code",
      "execution_count": null,
      "metadata": {
        "id": "HqQ4zWmKYFaw"
      },
      "outputs": [],
      "source": [
        "#print(\"hello, its my day 1 at internship\")"
      ]
    },
    {
      "cell_type": "code",
      "source": [
        "\"\"\"\n",
        "this will not get printed\n",
        "\"\"\""
      ],
      "metadata": {
        "colab": {
          "base_uri": "https://localhost:8080/",
          "height": 35
        },
        "id": "fDRonJLva6wf",
        "outputId": "4a8593b3-d44e-4641-ed21-c795768f57bf"
      },
      "execution_count": null,
      "outputs": [
        {
          "output_type": "execute_result",
          "data": {
            "text/plain": [
              "'\\nthis will not get printed\\n'"
            ],
            "application/vnd.google.colaboratory.intrinsic+json": {
              "type": "string"
            }
          },
          "metadata": {},
          "execution_count": 3
        }
      ]
    },
    {
      "cell_type": "markdown",
      "source": [
        "**variables**"
      ],
      "metadata": {
        "id": "_Qrnj74Kc8rx"
      }
    },
    {
      "cell_type": "markdown",
      "source": [
        "**arithematic operators**"
      ],
      "metadata": {
        "id": "ehCUHbRzCs8I"
      }
    },
    {
      "cell_type": "code",
      "source": [
        "from binascii import b2a_base64\n",
        "a = 27\n",
        "b = 10\n",
        "c = a+b #addition\n",
        "d = a-b #subtraction\n",
        "e = a/b #division\n",
        "f = a//b #floor division\n",
        "g = a%b #modulo\n",
        "h = a*b #multiplication\n",
        "print(c)\n",
        "print(d)\n",
        "print(e)\n",
        "print(f)\n",
        "print(g)\n",
        "print(h)\n",
        "\n",
        "print(type(c)) #type function returns data type"
      ],
      "metadata": {
        "colab": {
          "base_uri": "https://localhost:8080/"
        },
        "id": "jhgvzKHAdF5D",
        "outputId": "d4935233-2431-4717-8dd6-19475e838c57"
      },
      "execution_count": null,
      "outputs": [
        {
          "output_type": "stream",
          "name": "stdout",
          "text": [
            "37\n",
            "17\n",
            "2.7\n",
            "2\n",
            "7\n",
            "<class 'int'>\n"
          ]
        }
      ]
    },
    {
      "cell_type": "markdown",
      "source": [
        "**Assignment operators**"
      ],
      "metadata": {
        "id": "QM60YKjCDj6Z"
      }
    },
    {
      "cell_type": "code",
      "source": [
        "a = 5\n",
        "# a = a+2 is same as\n",
        "a += 2\n",
        "print(a)\n",
        "print(type(a))\n",
        "a -= 2\n",
        "print(a)\n",
        "print(type(a))\n",
        "a *= 2\n",
        "print(a)\n",
        "print(type(a))\n",
        "a /= 2\n",
        "print(a)\n",
        "print(type(a))\n",
        "a %= 2\n",
        "print(a)\n",
        "print(type(a))\n",
        "a **= 2\n",
        "print(a)\n",
        "print(type(a))\n",
        "a //= 2\n",
        "print(a)\n",
        "print(type(a))\n"
      ],
      "metadata": {
        "colab": {
          "base_uri": "https://localhost:8080/"
        },
        "id": "TlQI0XKtfS_y",
        "outputId": "d6b731e1-5ab6-4cd2-8b30-ee02f4d1beb1"
      },
      "execution_count": null,
      "outputs": [
        {
          "output_type": "stream",
          "name": "stdout",
          "text": [
            "7\n",
            "<class 'int'>\n",
            "5\n",
            "<class 'int'>\n",
            "10\n",
            "<class 'int'>\n",
            "5.0\n",
            "<class 'float'>\n",
            "1.0\n",
            "<class 'float'>\n",
            "1.0\n",
            "<class 'float'>\n",
            "0.0\n",
            "<class 'float'>\n"
          ]
        }
      ]
    }
  ]
}