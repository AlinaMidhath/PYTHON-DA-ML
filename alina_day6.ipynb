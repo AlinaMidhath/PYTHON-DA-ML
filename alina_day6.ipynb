{
  "nbformat": 4,
  "nbformat_minor": 0,
  "metadata": {
    "colab": {
      "provenance": [],
      "authorship_tag": "ABX9TyOcy3+0tWrTbDfquixDzzbH",
      "include_colab_link": true
    },
    "kernelspec": {
      "name": "python3",
      "display_name": "Python 3"
    },
    "language_info": {
      "name": "python"
    }
  },
  "cells": [
    {
      "cell_type": "markdown",
      "metadata": {
        "id": "view-in-github",
        "colab_type": "text"
      },
      "source": [
        "<a href=\"https://colab.research.google.com/github/AlinaMidhath/PYTHON-DA-ML/blob/main/alina_day6.ipynb\" target=\"_parent\"><img src=\"https://colab.research.google.com/assets/colab-badge.svg\" alt=\"Open In Colab\"/></a>"
      ]
    },
    {
      "cell_type": "markdown",
      "source": [
        "**DA**\n",
        "\n",
        "\n",
        "\n",
        "NUMPY LIBRARY"
      ],
      "metadata": {
        "id": "Aa6WRcBfLMu5"
      }
    },
    {
      "cell_type": "markdown",
      "source": [
        "NumPy is a Python library.\n",
        "\n",
        "NumPy is used for working with arrays.\n",
        "\n",
        "NumPy is short for \"Numerical Python\"."
      ],
      "metadata": {
        "id": "fmO6LE8nLcH2"
      }
    },
    {
      "cell_type": "markdown",
      "source": [
        "**ARRAY CREATION**\n",
        "NumPy is used to work with arrays. The array object in NumPy is called ndarray.\n",
        "\n",
        "We can create a NumPy ndarray object by using the array() function.\n",
        "To create an ndarray, we can pass a list, tuple or any array-like object into the array() method, and it will be converted into an ndarray:"
      ],
      "metadata": {
        "id": "6cuPxT7VLket"
      }
    },
    {
      "cell_type": "code",
      "execution_count": null,
      "metadata": {
        "colab": {
          "base_uri": "https://localhost:8080/"
        },
        "id": "YhfINofS93I_",
        "outputId": "434b681a-e0ee-4f73-f90f-a9aeba6e97fa"
      },
      "outputs": [
        {
          "output_type": "stream",
          "name": "stdout",
          "text": [
            "[1 2 3 4 5]\n",
            "int64\n",
            "<U6\n",
            "float64\n",
            "<U1\n"
          ]
        }
      ],
      "source": [
        "import numpy as np\n",
        "my_arr = np.array([1,2, 3, 4, 5])#using lists to create arrays\n",
        "array1 = np.array([\"hi\" , \"hello\" , \"wassup\"])\n",
        "array2 = np.array([2.2, 3.4, 4.5, 5.6])\n",
        "array3 = np.array(['a', 'b', 'c', 'd'])\n",
        "print(my_arr)\n",
        "print(my_arr.dtype)\n",
        "print(array1.dtype)# returns unsigned int value\n",
        "print(array2.dtype)\n",
        "print(array3.dtype)"
      ]
    },
    {
      "cell_type": "markdown",
      "source": [
        "**ACCESSING ARRAY ELEMENTS**"
      ],
      "metadata": {
        "id": "C5s7sPa4NDM8"
      }
    },
    {
      "cell_type": "code",
      "source": [
        "array4 = np.array([1,2,3,4,5,6,7,8,9])\n",
        "print(array4[4]) #accessing\n",
        "print(array4[0])\n",
        "print(array4[-1])\n",
        "print(array4[4] + array4[5])"
      ],
      "metadata": {
        "colab": {
          "base_uri": "https://localhost:8080/"
        },
        "id": "CWLG77mqCcG0",
        "outputId": "21868a03-f902-4158-88b0-2138e3c33d58"
      },
      "execution_count": null,
      "outputs": [
        {
          "output_type": "stream",
          "name": "stdout",
          "text": [
            "5\n",
            "1\n",
            "9\n",
            "11\n"
          ]
        }
      ]
    },
    {
      "cell_type": "markdown",
      "source": [
        "**SLICING**"
      ],
      "metadata": {
        "id": "_6duimqYD2jp"
      }
    },
    {
      "cell_type": "code",
      "source": [
        "array5 = array4[::2] #array4[0::2]\n",
        "print(array5)"
      ],
      "metadata": {
        "colab": {
          "base_uri": "https://localhost:8080/"
        },
        "id": "JwUEk_-eDHKp",
        "outputId": "8bb883dc-aae8-4af3-dc8e-d1c4b7a23f39"
      },
      "execution_count": null,
      "outputs": [
        {
          "output_type": "stream",
          "name": "stdout",
          "text": [
            "[1 3 5 7 9]\n"
          ]
        }
      ]
    },
    {
      "cell_type": "code",
      "source": [
        "print(array5[::-1])"
      ],
      "metadata": {
        "colab": {
          "base_uri": "https://localhost:8080/"
        },
        "id": "Etj6G98WEXBq",
        "outputId": "c467b043-1e26-42b4-c784-406e2fcb9198"
      },
      "execution_count": null,
      "outputs": [
        {
          "output_type": "stream",
          "name": "stdout",
          "text": [
            "[9 7 5 3 1]\n"
          ]
        }
      ]
    },
    {
      "cell_type": "markdown",
      "source": [
        "2D"
      ],
      "metadata": {
        "id": "FyTOPilgHhEb"
      }
    },
    {
      "cell_type": "code",
      "source": [
        "import numpy as np\n",
        "arr1 = np.array([[1, 2, 3, 4], [5, 6, 7, 8]])\n",
        "print(arr1[0])\n",
        "print(arr1[1])\n",
        "print(arr1.shape)#The shape of an array is the number of elements in each dimension.\n",
        "print(arr1[1][2])\n",
        "print(arr1[0][1:3])"
      ],
      "metadata": {
        "colab": {
          "base_uri": "https://localhost:8080/"
        },
        "id": "QsSfQjqFHqnQ",
        "outputId": "ec47d4cf-67e7-4f7c-c488-af67e1a9ca96"
      },
      "execution_count": null,
      "outputs": [
        {
          "output_type": "stream",
          "name": "stdout",
          "text": [
            "[1 2 3 4]\n",
            "[5 6 7 8]\n",
            "(2, 4)\n",
            "7\n",
            "[2 3]\n"
          ]
        }
      ]
    },
    {
      "cell_type": "markdown",
      "source": [
        "A dimension in arrays is one level of array depth (nested arrays).\n",
        "\n",
        "nested array: are arrays that have arrays as their elements."
      ],
      "metadata": {
        "id": "zZLIEaKFNmlC"
      }
    },
    {
      "cell_type": "code",
      "source": [
        "arr2 =np.array([1,2,3,4,5,6,7,8,9,10,11,12], ndmin=5)# its becoming a 5d array\n",
        "print(arr2)\n",
        "print(\"shape of array: \", arr2.shape) #it will show 5 dimensions(like (x,y) have 2 dimensions this will have (x,y,z,a,b))"
      ],
      "metadata": {
        "colab": {
          "base_uri": "https://localhost:8080/"
        },
        "id": "haPO2QRgJUus",
        "outputId": "6cce0da1-6e3e-48c2-81db-9778568de40e"
      },
      "execution_count": null,
      "outputs": [
        {
          "output_type": "stream",
          "name": "stdout",
          "text": [
            "[[[[[ 1  2  3  4  5  6  7  8  9 10 11 12]]]]]\n",
            "shape of array:  (1, 1, 1, 1, 12)\n"
          ]
        }
      ]
    },
    {
      "cell_type": "markdown",
      "source": [
        "Convert the following 1-D array with 12 elements into a 2-D array.\n",
        "An array that has 1-D arrays as its elements is called a 2-D array.\n",
        "\n",
        "These are often used to represent matrix or 2nd order tensors.\n",
        "\n",
        "The outermost dimension will have 4 arrays, each with 3 elements:"
      ],
      "metadata": {
        "id": "vhuzeaU1Pljb"
      }
    },
    {
      "cell_type": "code",
      "source": [
        "arr2 =np.array([1,2,3,4,5,6,7,8,9,10,11,12])\n",
        "newarr = arr2.reshape(4,3) #reshapes/changes the dimensions\n",
        "\n",
        "print(newarr)\n",
        "print(newarr.shape) #gives the dimension"
      ],
      "metadata": {
        "colab": {
          "base_uri": "https://localhost:8080/"
        },
        "id": "-4wB6aeIKovb",
        "outputId": "d0933b2f-ce10-4ace-8f44-fb8ad97fbaa4"
      },
      "execution_count": null,
      "outputs": [
        {
          "output_type": "stream",
          "name": "stdout",
          "text": [
            "[[ 1  2  3]\n",
            " [ 4  5  6]\n",
            " [ 7  8  9]\n",
            " [10 11 12]]\n",
            "(4, 3)\n"
          ]
        }
      ]
    },
    {
      "cell_type": "markdown",
      "source": [
        "Convert the following 1-D array with 12 elements into a 3-D array.\n",
        "\n",
        "The outermost dimension will have 2 arrays that contains 3 arrays, each with 2 elements:"
      ],
      "metadata": {
        "id": "RWTTgnpaO8ZS"
      }
    },
    {
      "cell_type": "code",
      "source": [
        "arr2 =np.array([1,2,3,4,5,6,7,8,9,10,11,12])\n",
        "newarr2 = arr2.reshape(2,3,2) #(row,dimension,column) also row*dim*col shd be = to no. of elements\n",
        "print(newarr2)\n",
        "print(newarr2.shape)\n",
        "print(newarr2.ndim)#Tells the dimensions of the array"
      ],
      "metadata": {
        "colab": {
          "base_uri": "https://localhost:8080/"
        },
        "id": "bIJKMoxlNeUs",
        "outputId": "588c668a-e59f-4a70-f540-35817516cf88"
      },
      "execution_count": null,
      "outputs": [
        {
          "output_type": "stream",
          "name": "stdout",
          "text": [
            "[[[ 1  2]\n",
            "  [ 3  4]\n",
            "  [ 5  6]]\n",
            "\n",
            " [[ 7  8]\n",
            "  [ 9 10]\n",
            "  [11 12]]]\n",
            "(2, 3, 2)\n",
            "3\n"
          ]
        }
      ]
    },
    {
      "cell_type": "code",
      "source": [
        "newarr3 = arr2.reshape(3,2,2)\n",
        "print(newarr3)\n",
        "print(newarr3.shape)\n",
        "print(newarr3.ndim)#Tells the dimensions of the array"
      ],
      "metadata": {
        "colab": {
          "base_uri": "https://localhost:8080/"
        },
        "id": "WlFFnOVFRf99",
        "outputId": "8c6d2159-405c-4ceb-978a-8d7502626dfe"
      },
      "execution_count": null,
      "outputs": [
        {
          "output_type": "stream",
          "name": "stdout",
          "text": [
            "[[[ 1  2]\n",
            "  [ 3  4]]\n",
            "\n",
            " [[ 5  6]\n",
            "  [ 7  8]]\n",
            "\n",
            " [[ 9 10]\n",
            "  [11 12]]]\n",
            "(3, 2, 2)\n",
            "3\n"
          ]
        }
      ]
    },
    {
      "cell_type": "markdown",
      "source": [
        "**Flattening** - converting any array to one dimensional array"
      ],
      "metadata": {
        "id": "fxxfYJiGOf2l"
      }
    },
    {
      "cell_type": "code",
      "source": [
        "arr1 = np.array([[1, 2, 3, 4], [5, 6, 7, 8]])#2d array creation\n",
        "print(arr1)\n",
        "arr4=arr1.reshape(-1)\n",
        "print(arr4)"
      ],
      "metadata": {
        "colab": {
          "base_uri": "https://localhost:8080/"
        },
        "id": "VknWp47WSfTL",
        "outputId": "6f9f974c-f803-4629-a2d4-ce9cabef6516"
      },
      "execution_count": null,
      "outputs": [
        {
          "output_type": "stream",
          "name": "stdout",
          "text": [
            "[[1 2 3 4]\n",
            " [5 6 7 8]]\n",
            "[1 2 3 4 5 6 7 8]\n"
          ]
        }
      ]
    },
    {
      "cell_type": "code",
      "source": [
        "arr5 = np.array([[1, 2, 3, 4], [5, 6, 7, 8],[9,10,11,12]])\n",
        "print(arr5)\n",
        "arr6= arr5.reshape(-1)\n",
        "print(arr6)"
      ],
      "metadata": {
        "colab": {
          "base_uri": "https://localhost:8080/"
        },
        "id": "Dt-QKrouSx4c",
        "outputId": "ffd752cf-6d04-4ebe-e71b-b621f3bb024f"
      },
      "execution_count": null,
      "outputs": [
        {
          "output_type": "stream",
          "name": "stdout",
          "text": [
            "[[ 1  2  3  4]\n",
            " [ 5  6  7  8]\n",
            " [ 9 10 11 12]]\n",
            "[ 1  2  3  4  5  6  7  8  9 10 11 12]\n"
          ]
        }
      ]
    },
    {
      "cell_type": "code",
      "source": [
        "arr2 =np.array([1,2,3,4,5,6,7,8,9,10,11,12])\n",
        "newarr3 = arr2.reshape(3,2,2)\n",
        "print(newarr3)\n",
        "print(newarr3.shape)\n",
        "print(newarr3.ndim)\n",
        "arr7= newarr3.reshape(-1)\n",
        "print(arr7)"
      ],
      "metadata": {
        "colab": {
          "base_uri": "https://localhost:8080/"
        },
        "id": "6aRd2W3pTLSh",
        "outputId": "973244a0-bcec-474b-a2af-512660c74fa0"
      },
      "execution_count": null,
      "outputs": [
        {
          "output_type": "stream",
          "name": "stdout",
          "text": [
            "[[[ 1  2]\n",
            "  [ 3  4]]\n",
            "\n",
            " [[ 5  6]\n",
            "  [ 7  8]]\n",
            "\n",
            " [[ 9 10]\n",
            "  [11 12]]]\n",
            "(3, 2, 2)\n",
            "3\n",
            "[ 1  2  3  4  5  6  7  8  9 10 11 12]\n"
          ]
        }
      ]
    },
    {
      "cell_type": "markdown",
      "source": [
        "loops"
      ],
      "metadata": {
        "id": "5Uq5s2tSYX1x"
      }
    },
    {
      "cell_type": "code",
      "source": [
        "ar1 = np.array([[1,2,3],[4,5,6]])\n",
        "for element in ar1: # 2 for loops because it is a 2d arrar\n",
        "  for ele in element:\n",
        "    print(ele)"
      ],
      "metadata": {
        "colab": {
          "base_uri": "https://localhost:8080/"
        },
        "id": "X_9dShAJYGH9",
        "outputId": "aa3b8a5e-e368-4f15-a048-7ef09d28d80f"
      },
      "execution_count": null,
      "outputs": [
        {
          "output_type": "stream",
          "name": "stdout",
          "text": [
            "1\n",
            "2\n",
            "3\n",
            "4\n",
            "5\n",
            "6\n"
          ]
        }
      ]
    },
    {
      "cell_type": "code",
      "source": [
        "ar2=np.array([[[1,2,3],[4,5,6]],[[7,8,9],[10,11,12]]])\n",
        "for element in ar2: # 3 for loops because it is a 3d array\n",
        "  for ele in element:\n",
        "    for e in ele:\n",
        "      print(e)\n"
      ],
      "metadata": {
        "id": "6dbaS7VeY95a",
        "colab": {
          "base_uri": "https://localhost:8080/"
        },
        "outputId": "6a7afae7-b03d-4d10-bb92-c5e9813535db"
      },
      "execution_count": null,
      "outputs": [
        {
          "output_type": "stream",
          "name": "stdout",
          "text": [
            "1\n",
            "2\n",
            "3\n",
            "4\n",
            "5\n",
            "6\n",
            "7\n",
            "8\n",
            "9\n",
            "10\n",
            "11\n",
            "12\n"
          ]
        }
      ]
    },
    {
      "cell_type": "markdown",
      "source": [
        "**JOINING**"
      ],
      "metadata": {
        "id": "1u3YPAEyPlFm"
      }
    },
    {
      "cell_type": "code",
      "source": [
        "ar3 = np.array([1,2,3,4,5,6,7,8])\n",
        "ar4 = np.array([2,3,4,5])\n",
        "ar = np.concatenate((ar3,ar4))\n",
        "print(ar)"
      ],
      "metadata": {
        "colab": {
          "base_uri": "https://localhost:8080/"
        },
        "id": "-oinanncZcmp",
        "outputId": "e89342cc-847e-472f-87a2-f03e3796022a"
      },
      "execution_count": null,
      "outputs": [
        {
          "output_type": "stream",
          "name": "stdout",
          "text": [
            "[1 2 3 4 5 6 7 8 2 3 4 5]\n"
          ]
        }
      ]
    },
    {
      "cell_type": "markdown",
      "source": [
        "**SPLIT**"
      ],
      "metadata": {
        "id": "RSCZzTOuPs8Y"
      }
    },
    {
      "cell_type": "code",
      "source": [
        "ar5 = np.array([1,2,3,4,5,6,7,8,9,10])\n",
        "ar6 = np.array_split(ar5,3)\n",
        "print(ar6)\n",
        "print(ar6[2])"
      ],
      "metadata": {
        "colab": {
          "base_uri": "https://localhost:8080/"
        },
        "id": "K9oL3b7badMB",
        "outputId": "49aa10e5-7212-4fa8-f2a9-afdddddd5c6a"
      },
      "execution_count": null,
      "outputs": [
        {
          "output_type": "stream",
          "name": "stdout",
          "text": [
            "[array([1, 2, 3, 4]), array([5, 6, 7]), array([ 8,  9, 10])]\n",
            "[ 8  9 10]\n"
          ]
        }
      ]
    },
    {
      "cell_type": "markdown",
      "source": [
        "**SORT**"
      ],
      "metadata": {
        "id": "xnnTmMNKPztU"
      }
    },
    {
      "cell_type": "code",
      "source": [
        "ar7 = np.array([-9,10,2,-4])\n",
        "print(np.sort(ar7))"
      ],
      "metadata": {
        "colab": {
          "base_uri": "https://localhost:8080/"
        },
        "id": "7PgxKHPfbZwe",
        "outputId": "cb7b5e6b-208d-4d38-df82-41573ee42c26"
      },
      "execution_count": null,
      "outputs": [
        {
          "output_type": "stream",
          "name": "stdout",
          "text": [
            "[-9 -4  2 10]\n"
          ]
        }
      ]
    },
    {
      "cell_type": "code",
      "source": [
        "ar8 = np.array([False,True,True,False])\n",
        "print(np.sort(ar8))"
      ],
      "metadata": {
        "colab": {
          "base_uri": "https://localhost:8080/"
        },
        "id": "uqBG0P9fbpSE",
        "outputId": "f9207d15-ff5d-4e83-e4ce-349aa9bd439e"
      },
      "execution_count": null,
      "outputs": [
        {
          "output_type": "stream",
          "name": "stdout",
          "text": [
            "[False False  True  True]\n"
          ]
        }
      ]
    },
    {
      "cell_type": "code",
      "source": [
        "ar9 = np.array(['e','a','u','o','i'])\n",
        "print(np.sort(ar9))"
      ],
      "metadata": {
        "colab": {
          "base_uri": "https://localhost:8080/"
        },
        "id": "ObvHmQByb3YZ",
        "outputId": "6bc67560-52f9-404e-ac6c-f3e66ab6b547"
      },
      "execution_count": null,
      "outputs": [
        {
          "output_type": "stream",
          "name": "stdout",
          "text": [
            "['a' 'e' 'i' 'o' 'u']\n"
          ]
        }
      ]
    },
    {
      "cell_type": "code",
      "source": [
        "ar10 = np.array([\"midhath\",\"basma\", \"sarah\"])\n",
        "print(np.sort(ar10))"
      ],
      "metadata": {
        "colab": {
          "base_uri": "https://localhost:8080/"
        },
        "id": "Tm95PQaLcK0o",
        "outputId": "adebfe44-850b-4edc-a531-35fef49fd8d0"
      },
      "execution_count": null,
      "outputs": [
        {
          "output_type": "stream",
          "name": "stdout",
          "text": [
            "['basma' 'midhath' 'sarah']\n"
          ]
        }
      ]
    },
    {
      "cell_type": "code",
      "source": [
        "ar11 = np.array([1,2,3,4,5,6,7,8,9,10])\n",
        "filter_array =[]\n",
        "for ele in ar11:\n",
        "  if ele%2 ==0:\n",
        "    filter_array.append(True)\n",
        "  else:\n",
        "    filter_array.append(False)\n",
        "\n",
        "print(filter_array)"
      ],
      "metadata": {
        "colab": {
          "base_uri": "https://localhost:8080/"
        },
        "id": "L6I-nOpRcn9e",
        "outputId": "86a22111-919f-43fb-caee-6e63db7abb67"
      },
      "execution_count": null,
      "outputs": [
        {
          "output_type": "stream",
          "name": "stdout",
          "text": [
            "[False, True, False, True, False, True, False, True, False, True]\n"
          ]
        }
      ]
    },
    {
      "cell_type": "markdown",
      "source": [
        "priinting even and odd numbers in an array"
      ],
      "metadata": {
        "id": "URP45tFpP8nT"
      }
    },
    {
      "cell_type": "code",
      "source": [
        "ar11 = np.array([1,2,3,4,5,6,7,8,9,10])\n",
        "even = []\n",
        "odd = []\n",
        "for ele in ar11:\n",
        "  if ele%2 ==0:\n",
        "    even.append(ele)\n",
        "  else:\n",
        "    odd.append(ele)\n",
        "\n",
        "print(even)\n",
        "print(odd)"
      ],
      "metadata": {
        "colab": {
          "base_uri": "https://localhost:8080/"
        },
        "id": "ZLBCHKaZdUeW",
        "outputId": "5ca84a6d-a10c-4a49-fcab-6509e55d4b36"
      },
      "execution_count": null,
      "outputs": [
        {
          "output_type": "stream",
          "name": "stdout",
          "text": [
            "[2, 4, 6, 8, 10]\n",
            "[1, 3, 5, 7, 9]\n"
          ]
        }
      ]
    }
  ]
}