{
  "nbformat": 4,
  "nbformat_minor": 0,
  "metadata": {
    "colab": {
      "provenance": [],
      "authorship_tag": "ABX9TyPbosTrAt5zxDNdr7aWqywq",
      "include_colab_link": true
    },
    "kernelspec": {
      "name": "python3",
      "display_name": "Python 3"
    },
    "language_info": {
      "name": "python"
    }
  },
  "cells": [
    {
      "cell_type": "markdown",
      "metadata": {
        "id": "view-in-github",
        "colab_type": "text"
      },
      "source": [
        "<a href=\"https://colab.research.google.com/github/AlinaMidhath/PYTHON-DA-ML/blob/main/alina_day5.ipynb\" target=\"_parent\"><img src=\"https://colab.research.google.com/assets/colab-badge.svg\" alt=\"Open In Colab\"/></a>"
      ]
    },
    {
      "cell_type": "markdown",
      "source": [
        "FROZEN SETS"
      ],
      "metadata": {
        "id": "7JN8MyZf4cMC"
      }
    },
    {
      "cell_type": "code",
      "source": [
        "mylist = [1, 2, 3, 4]\n",
        "newlist =[x for x in mylist if x != 3]\n",
        "print(newlist)"
      ],
      "metadata": {
        "colab": {
          "base_uri": "https://localhost:8080/"
        },
        "id": "SSt96hiy5AIm",
        "outputId": "7d039c8e-b49f-4bd0-ee2f-9be394e9e98e"
      },
      "execution_count": null,
      "outputs": [
        {
          "output_type": "stream",
          "name": "stdout",
          "text": [
            "[1, 2, 4]\n"
          ]
        }
      ]
    },
    {
      "cell_type": "code",
      "source": [
        "list1 = [1, 2, 3, 4, 5, 6, 7, 8, 9, 10 , 12, 11, 13, 15]\n",
        "list2 = [x for x in range(1,11)]\n",
        "print(list2)\n",
        "s = 0\n",
        "for x in list2:\n",
        "  if (s< x):\n",
        "    s = x\n",
        "print (s)\n",
        "# for x in list2:\n",
        "#   print(x)"
      ],
      "metadata": {
        "colab": {
          "base_uri": "https://localhost:8080/"
        },
        "id": "QpLhrqM75u_L",
        "outputId": "fe39051e-efff-4c28-8542-6e2fce383970"
      },
      "execution_count": null,
      "outputs": [
        {
          "output_type": "stream",
          "name": "stdout",
          "text": [
            "[1, 2, 3, 4, 5, 6, 7, 8, 9, 10]\n",
            "10\n"
          ]
        }
      ]
    },
    {
      "cell_type": "markdown",
      "source": [
        "IMPORTING MODULES"
      ],
      "metadata": {
        "id": "kfamwobl-SOG"
      }
    },
    {
      "cell_type": "code",
      "source": [
        "import datetime\n",
        "x = datetime.datetime.now()\n",
        "print(x)"
      ],
      "metadata": {
        "colab": {
          "base_uri": "https://localhost:8080/"
        },
        "id": "Ab85srfe-vjI",
        "outputId": "4dfffe90-07b5-4311-acc7-81d8b7c830e6"
      },
      "execution_count": null,
      "outputs": [
        {
          "output_type": "stream",
          "name": "stdout",
          "text": [
            "2023-06-24 10:38:36.582310\n"
          ]
        }
      ]
    },
    {
      "cell_type": "markdown",
      "source": [
        "SCOPE"
      ],
      "metadata": {
        "id": "DYduKGlJ_A_K"
      }
    },
    {
      "cell_type": "code",
      "source": [
        "for i in range(1,6):\n",
        "  for j in range(1,i+1):\n",
        "    print(\"*\" , end = \" \")\n",
        "  print(\"\\r\")"
      ],
      "metadata": {
        "colab": {
          "base_uri": "https://localhost:8080/"
        },
        "id": "tkQ9zsdi_HPC",
        "outputId": "3961944b-24cc-48b5-80fb-f43ef7fb7bba"
      },
      "execution_count": null,
      "outputs": [
        {
          "output_type": "stream",
          "name": "stdout",
          "text": [
            "* \r\n",
            "* * \r\n",
            "* * * \r\n",
            "* * * * \r\n",
            "* * * * * \r\n"
          ]
        }
      ]
    },
    {
      "cell_type": "code",
      "source": [
        "for i in range(1,6):\n",
        "  for j in range(i, 6):\n",
        "    print(\"*\" , end = \" \")\n",
        "  print(\"\\r\")"
      ],
      "metadata": {
        "colab": {
          "base_uri": "https://localhost:8080/"
        },
        "id": "FabVfqzYDOrj",
        "outputId": "b49c1589-75a7-4cb4-e063-f208927328ed"
      },
      "execution_count": null,
      "outputs": [
        {
          "output_type": "stream",
          "name": "stdout",
          "text": [
            "* * * * * \r\n",
            "* * * * \r\n",
            "* * * \r\n",
            "* * \r\n",
            "* \r\n"
          ]
        }
      ]
    }
  ]
}