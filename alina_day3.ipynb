{
  "nbformat": 4,
  "nbformat_minor": 0,
  "metadata": {
    "colab": {
      "provenance": [],
      "authorship_tag": "ABX9TyM37dPl8TeeEGCjqpPeB/rh",
      "include_colab_link": true
    },
    "kernelspec": {
      "name": "python3",
      "display_name": "Python 3"
    },
    "language_info": {
      "name": "python"
    }
  },
  "cells": [
    {
      "cell_type": "markdown",
      "metadata": {
        "id": "view-in-github",
        "colab_type": "text"
      },
      "source": [
        "<a href=\"https://colab.research.google.com/github/AlinaMidhath/PYTHON-DA-ML/blob/main/alina_day3.ipynb\" target=\"_parent\"><img src=\"https://colab.research.google.com/assets/colab-badge.svg\" alt=\"Open In Colab\"/></a>"
      ]
    },
    {
      "cell_type": "markdown",
      "source": [
        "**SETS**"
      ],
      "metadata": {
        "id": "cmS1s99KSfye"
      }
    },
    {
      "cell_type": "code",
      "source": [
        "myset = {\"hello\", \"alina\", 3.0, True, }#it considers 1 and True as the saame thing\n",
        "print(myset)#unorderd\n",
        "l1 = [1, 1, 1, 2, 1, 2, 2, 3, 3, 4]\n",
        "l2 = set(l1)\n",
        "l3 = list(l2)\n",
        "print(l2)#set\n",
        "print(l3)#list\n",
        "print(len(myset))\n"
      ],
      "metadata": {
        "colab": {
          "base_uri": "https://localhost:8080/"
        },
        "id": "Ad-oVEIcVjfY",
        "outputId": "b19cb19a-3296-4c21-9d55-74e2520b756b"
      },
      "execution_count": null,
      "outputs": [
        {
          "output_type": "stream",
          "name": "stdout",
          "text": [
            "{'alina', 'hello', 3.0, True}\n",
            "{1, 2, 3, 4}\n",
            "[1, 2, 3, 4]\n",
            "4\n"
          ]
        }
      ]
    },
    {
      "cell_type": "code",
      "source": [
        "#adding elements to the set\n",
        "myset.add(10)\n",
        "print(myset)\n",
        "\n",
        "s1={1, 2, 3, 4}\n",
        "s2={4, 5, 6, 7}\n",
        "l=[8, 9, 10]\n",
        "t=(11, 12, 13, 14)\n",
        "s1.update(s2)\n",
        "print(s1)\n",
        "s1.update(l)# can also add /update a list\n",
        "print(s1)\n",
        "s1.update(t)# can also add /update a tuple\n",
        "print(s1)"
      ],
      "metadata": {
        "colab": {
          "base_uri": "https://localhost:8080/"
        },
        "id": "HCBPAcbRCP31",
        "outputId": "2f92cb4b-9b95-4e46-e7cd-f69f292a7143"
      },
      "execution_count": null,
      "outputs": [
        {
          "output_type": "stream",
          "name": "stdout",
          "text": [
            "{True, 'alina', 3.0, 10, 'hello'}\n",
            "{1, 2, 3, 4, 5, 6, 7}\n",
            "{1, 2, 3, 4, 5, 6, 7, 8, 9, 10}\n",
            "{1, 2, 3, 4, 5, 6, 7, 8, 9, 10, 11, 12, 13, 14}\n"
          ]
        }
      ]
    },
    {
      "cell_type": "code",
      "source": [
        "#deleting\n",
        "myset = {True, 'alina', 3.0, 10, 'hello'}\n",
        "myset.remove(10) #removes 10\n",
        "print(myset)\n",
        "myset.discard(\"hello\")#removes hello\n",
        "print(myset)\n",
        "myset.pop() ##removes any random element\n",
        "print(myset)\n",
        "s1={1, 2, 3, 4}\n",
        "s2={4, 5, 6, 7}\n",
        "s1.clear() #clears all the set elements\n",
        "print(s1)\n",
        "del(s2) #deletes the set only\n"
      ],
      "metadata": {
        "colab": {
          "base_uri": "https://localhost:8080/"
        },
        "id": "B5cv6Zz0DzHH",
        "outputId": "8268cfd8-9315-446d-b3dc-4f067c3cbd4a"
      },
      "execution_count": null,
      "outputs": [
        {
          "output_type": "stream",
          "name": "stdout",
          "text": [
            "{True, 'alina', 3.0, 'hello'}\n",
            "{True, 'alina', 3.0}\n",
            "{'alina', 3.0}\n",
            "set()\n"
          ]
        }
      ]
    },
    {
      "cell_type": "code",
      "source": [
        "#LOOP\n",
        "s1={1, 2, 3, 4}\n",
        "for x in s1:\n",
        "  print(x)"
      ],
      "metadata": {
        "colab": {
          "base_uri": "https://localhost:8080/"
        },
        "id": "_Ujde3fWFU39",
        "outputId": "f8118c7a-3bce-455d-f5a9-cd8641835094"
      },
      "execution_count": null,
      "outputs": [
        {
          "output_type": "stream",
          "name": "stdout",
          "text": [
            "1\n",
            "2\n",
            "3\n",
            "4\n"
          ]
        }
      ]
    },
    {
      "cell_type": "code",
      "source": [
        "#join two loops\n",
        "s1={1, 2, 3, 4}\n",
        "s2={4, 5, 6, 7}\n",
        "s3 = s1.union(s2)\n",
        "print(s3)\n",
        "#can also use \"update\" funtion\n"
      ],
      "metadata": {
        "colab": {
          "base_uri": "https://localhost:8080/"
        },
        "id": "samMAZoAFs6E",
        "outputId": "2e63e6ae-d6d6-4e0f-cf78-aa3e1e544fe9"
      },
      "execution_count": null,
      "outputs": [
        {
          "output_type": "stream",
          "name": "stdout",
          "text": [
            "{1, 2, 3, 4, 5, 6, 7}\n"
          ]
        }
      ]
    },
    {
      "cell_type": "markdown",
      "source": [
        "**DICTIONARY**"
      ],
      "metadata": {
        "id": "whTWWVRWYYCW"
      }
    },
    {
      "cell_type": "code",
      "source": [
        "#dictionary can store value of any type inc string list\n",
        "mydict = {          #creating\n",
        "    \"math\" : 20,\n",
        "    \"chem\" : 25,\n",
        "    \"phy\"  : 30,\n",
        "    \"comp\" : 35\n",
        "}\n",
        "print(mydict)\n",
        "print(mydict[\"chem\"]) #access\n",
        "x = mydict.get(\"math\")\n",
        "print(x)\n",
        "print(len(mydict))\n",
        "print(mydict.keys())\n",
        "mydict[\"comp\"]= 40   #modify\n",
        "print(mydict)\n",
        "newdict = dict(color=\"blue\", tip=0.5, cost=   5)    #creating  using dict constructor\n",
        "print(newdict)\n"
      ],
      "metadata": {
        "colab": {
          "base_uri": "https://localhost:8080/"
        },
        "id": "NIEuzHX7YYwW",
        "outputId": "f320354d-0e0c-41a9-8257-3611770c9749"
      },
      "execution_count": null,
      "outputs": [
        {
          "output_type": "stream",
          "name": "stdout",
          "text": [
            "{'math': 20, 'chem': 25, 'phy': 30, 'comp': 35}\n",
            "25\n",
            "20\n",
            "4\n",
            "dict_keys(['math', 'chem', 'phy', 'comp'])\n",
            "{'math': 20, 'chem': 25, 'phy': 30, 'comp': 40}\n",
            "{'color': 'blue', 'tip': 0.5, 'cost': 5}\n"
          ]
        }
      ]
    },
    {
      "cell_type": "code",
      "source": [
        "newdict[\"type\"] = \"ballpoint\" # adding a new key and value\n",
        "x= newdict.keys()\n",
        "y= newdict.values()\n",
        "print(x)\n",
        "print(y)\n",
        "print(newdict)\n",
        "newdict[\"cost\"] = 10 #update\n",
        "print(newdict)\n",
        "newdict.update({\"cost\" : 20}) #update\n",
        "print(newdict)"
      ],
      "metadata": {
        "colab": {
          "base_uri": "https://localhost:8080/"
        },
        "id": "mC_O3OQfHnmB",
        "outputId": "b50bedb8-8ad5-4f5a-a15d-da63900e18aa"
      },
      "execution_count": null,
      "outputs": [
        {
          "output_type": "stream",
          "name": "stdout",
          "text": [
            "dict_keys(['color', 'tip', 'cost', 'type'])\n",
            "dict_values(['blue', 0.5, 20, 'ballpoint'])\n",
            "{'color': 'blue', 'tip': 0.5, 'cost': 20, 'type': 'ballpoint'}\n",
            "{'color': 'blue', 'tip': 0.5, 'cost': 10, 'type': 'ballpoint'}\n",
            "{'color': 'blue', 'tip': 0.5, 'cost': 20, 'type': 'ballpoint'}\n"
          ]
        }
      ]
    },
    {
      "cell_type": "code",
      "source": [
        "#deleting\n",
        "newdict={\n",
        "    \"color\": \"blue\",\n",
        "    \"tip\"  : 0.5,\n",
        "    \"cost\" : 20,\n",
        "    \"type\" : \"ballpoint\"}\n",
        "newdict.pop (\"color\") #deletes the value of color\n",
        "print(newdict)\n",
        "del newdict[\"tip\"] #deletes the value of color\n",
        "print(newdict)\n",
        "newdict.popitem() #removes the last or any random item / value\n",
        "print(newdict)\n",
        "newdict.clear()\n",
        "print(newdict)\n",
        "del newdict"
      ],
      "metadata": {
        "colab": {
          "base_uri": "https://localhost:8080/"
        },
        "id": "jZRGM_qvJoRC",
        "outputId": "8c769e8a-e469-4dea-b347-40fadd716df9"
      },
      "execution_count": null,
      "outputs": [
        {
          "output_type": "stream",
          "name": "stdout",
          "text": [
            "{'tip': 0.5, 'cost': 20, 'type': 'ballpoint'}\n",
            "{'cost': 20, 'type': 'ballpoint'}\n",
            "{'cost': 20}\n",
            "{}\n"
          ]
        }
      ]
    },
    {
      "cell_type": "code",
      "source": [],
      "metadata": {
        "id": "Mi7MmF8OMthO"
      },
      "execution_count": null,
      "outputs": []
    },
    {
      "cell_type": "markdown",
      "source": [
        "**CONDITIONAL STATEMENTS**"
      ],
      "metadata": {
        "id": "M-sqDULTelVG"
      }
    },
    {
      "cell_type": "code",
      "source": [
        "age = int(input(\"enter your age : \"))\n",
        "if age < 18:\n",
        " print(\"you are not eligible to vote\")\n",
        "elif age> 18:\n",
        " print(\" you are eligible to vote\")\n",
        "else:\n",
        " print(\"wrong value entered\")"
      ],
      "metadata": {
        "colab": {
          "base_uri": "https://localhost:8080/"
        },
        "id": "AFDiD-8sej_q",
        "outputId": "e5206790-be71-4662-a62a-86d3abcb6c44"
      },
      "execution_count": null,
      "outputs": [
        {
          "output_type": "stream",
          "name": "stdout",
          "text": [
            "enter your age : 20\n",
            " you are eligible to vote\n"
          ]
        }
      ]
    },
    {
      "cell_type": "code",
      "source": [
        "a = 5\n",
        "b = 15\n",
        "if a < b : print(\"b is greater tha a\")"
      ],
      "metadata": {
        "colab": {
          "base_uri": "https://localhost:8080/"
        },
        "id": "ZQFWUFJqAEAt",
        "outputId": "45c9fc34-bd6a-4c05-88fb-dcbcbb6e1dd5"
      },
      "execution_count": null,
      "outputs": [
        {
          "output_type": "stream",
          "name": "stdout",
          "text": [
            "b is greater tha a\n"
          ]
        }
      ]
    },
    {
      "cell_type": "code",
      "source": [
        "c = input(\"enter the first no. \")\n",
        "d = input(\"enter the second no. \")\n",
        "print(c + d)# concatinates as the it takes the default input value of string type\n",
        "if c > d :\n",
        "  print( \"c is greater\")\n",
        "else:\n",
        "  print(\"d is greater\")"
      ],
      "metadata": {
        "colab": {
          "base_uri": "https://localhost:8080/"
        },
        "id": "sVN57hRkAP_v",
        "outputId": "29e9fb5b-8fe0-4983-cd36-fb58f294c1e6"
      },
      "execution_count": null,
      "outputs": [
        {
          "output_type": "stream",
          "name": "stdout",
          "text": [
            "enter the first no. 25\n",
            "enter the second no. 26\n",
            "2526\n",
            "d is greater\n"
          ]
        }
      ]
    },
    {
      "cell_type": "code",
      "source": [
        "e= int(input(\"enter the value of e \"))\n",
        "f= int(input(\"enter the value of f \"))\n",
        "g= e+f\n",
        "print(g)"
      ],
      "metadata": {
        "colab": {
          "base_uri": "https://localhost:8080/"
        },
        "id": "Uv00Fo4eA10r",
        "outputId": "27d6acf2-e3db-4789-e4cb-4c98ecab9678"
      },
      "execution_count": null,
      "outputs": [
        {
          "output_type": "stream",
          "name": "stdout",
          "text": [
            "enter the value of e 25\n",
            "enter the value of f 125\n",
            "150\n"
          ]
        }
      ]
    },
    {
      "cell_type": "code",
      "source": [
        "l=4\n",
        "k=5\n",
        "if(k>l): print(\"k is greatest\")\n",
        "\n",
        "m=2\n",
        "n= 4\n",
        "print(\"=\") if m==n else print(\"!=\")# used only when 2 conditions to be checked short hand notation\n"
      ],
      "metadata": {
        "colab": {
          "base_uri": "https://localhost:8080/"
        },
        "id": "p4Tai25wAc04",
        "outputId": "1077c955-63b5-49a5-d477-2195a1f458af"
      },
      "execution_count": null,
      "outputs": [
        {
          "output_type": "stream",
          "name": "stdout",
          "text": [
            "k is greatest\n",
            "!=\n"
          ]
        }
      ]
    },
    {
      "cell_type": "code",
      "source": [
        "a = 24\n",
        "b = 35\n",
        "c = 46\n",
        "if a<b and b<c:\n",
        "  print(\"c is greatest\")\n",
        "\n",
        "if a<b or c<b:\n",
        "   print(\"b might be the greatest\")\n"
      ],
      "metadata": {
        "colab": {
          "base_uri": "https://localhost:8080/"
        },
        "id": "CgyPhukhAnfL",
        "outputId": "2ef956d1-0821-47db-ad56-7de46f259ff4"
      },
      "execution_count": null,
      "outputs": [
        {
          "output_type": "stream",
          "name": "stdout",
          "text": [
            "c is greatest\n",
            "b might be the greatest\n"
          ]
        }
      ]
    },
    {
      "cell_type": "markdown",
      "source": [
        "**LOOPS**"
      ],
      "metadata": {
        "id": "ewHaE0qPByWL"
      }
    },
    {
      "cell_type": "code",
      "source": [
        "i = 1\n",
        "while(i < 10):\n",
        "  print(i)\n",
        "  i += 1# if we dont increament then it will run an infinite loop\n"
      ],
      "metadata": {
        "colab": {
          "base_uri": "https://localhost:8080/"
        },
        "id": "zoooUT2JpCxl",
        "outputId": "a659ba51-913b-44d4-fc75-de8959d51fb7"
      },
      "execution_count": null,
      "outputs": [
        {
          "output_type": "stream",
          "name": "stdout",
          "text": [
            "1\n",
            "2\n",
            "3\n",
            "4\n",
            "5\n",
            "6\n",
            "7\n",
            "8\n",
            "9\n"
          ]
        }
      ]
    },
    {
      "cell_type": "code",
      "source": [
        "i = 1\n",
        "while (i <= 10):\n",
        "  print(i)\n",
        "  if i == 4:\n",
        "   break\n",
        "  i += 1\n"
      ],
      "metadata": {
        "colab": {
          "base_uri": "https://localhost:8080/"
        },
        "id": "sq-0awSdpSyH",
        "outputId": "88f777a4-e2af-4b54-bfa3-70e3340f9d8f"
      },
      "execution_count": null,
      "outputs": [
        {
          "output_type": "stream",
          "name": "stdout",
          "text": [
            "1\n",
            "2\n",
            "3\n",
            "4\n"
          ]
        }
      ]
    },
    {
      "cell_type": "code",
      "source": [
        "i = 0\n",
        "while(i< 10):\n",
        "  i += 1\n",
        "  if i==4:\n",
        "   continue# all the stmnts below continue are skipped for once(basically it is skipped the no. of times the if cond is true)\n",
        "\n",
        "  print(i)\n",
        "\n"
      ],
      "metadata": {
        "colab": {
          "base_uri": "https://localhost:8080/"
        },
        "id": "s4ENZj9knK1Q",
        "outputId": "a1c32f53-b38b-44b4-df3e-4c589f49bf1d"
      },
      "execution_count": null,
      "outputs": [
        {
          "output_type": "stream",
          "name": "stdout",
          "text": [
            "1\n",
            "2\n",
            "3\n",
            "5\n",
            "6\n",
            "7\n",
            "8\n",
            "9\n",
            "10\n"
          ]
        }
      ]
    },
    {
      "cell_type": "code",
      "source": [],
      "metadata": {
        "id": "PyRGLOVEwUpG"
      },
      "execution_count": null,
      "outputs": []
    },
    {
      "cell_type": "code",
      "source": [
        "i = 0\n",
        "while(i<10):\n",
        "  print(i)\n",
        "  i += 1\n",
        "else:\n",
        "  print(\"i is no longer less than 10\")"
      ],
      "metadata": {
        "colab": {
          "base_uri": "https://localhost:8080/"
        },
        "id": "sSlygVmxtY4V",
        "outputId": "405dd290-ce21-462b-f6df-203197ca08cd"
      },
      "execution_count": null,
      "outputs": [
        {
          "output_type": "stream",
          "name": "stdout",
          "text": [
            "0\n",
            "1\n",
            "2\n",
            "3\n",
            "4\n",
            "5\n",
            "6\n",
            "7\n",
            "8\n",
            "9\n",
            "i is no longer less than 10\n"
          ]
        }
      ]
    },
    {
      "cell_type": "code",
      "source": [
        "mylist =[\"mango\", \"apple\", \"orange\", \"watermelon\", \"banana\"]\n",
        "for x in mylist: # 'in' and 'not in' are membership operatorss\n",
        "  print(x)\n",
        "print(\"mango\" not in mylist)#membership operators returns boolean value\n",
        "print(\"apple\" in mylist)"
      ],
      "metadata": {
        "colab": {
          "base_uri": "https://localhost:8080/"
        },
        "id": "RXWTSC2bwXfR",
        "outputId": "8e7048dd-4758-4efd-b324-430df1b338a8"
      },
      "execution_count": null,
      "outputs": [
        {
          "output_type": "stream",
          "name": "stdout",
          "text": [
            "mango\n",
            "apple\n",
            "orange\n",
            "watermelon\n",
            "banana\n",
            "False\n",
            "True\n"
          ]
        }
      ]
    },
    {
      "cell_type": "code",
      "source": [
        "for i in range(10): # for can work only with \"in\" operator\n",
        "  print(i)"
      ],
      "metadata": {
        "colab": {
          "base_uri": "https://localhost:8080/"
        },
        "id": "DLEcU-rOy-U1",
        "outputId": "41a3c3a1-9447-4d2b-dc1e-653fcdba16f9"
      },
      "execution_count": null,
      "outputs": [
        {
          "output_type": "stream",
          "name": "stdout",
          "text": [
            "0\n",
            "1\n",
            "2\n",
            "3\n",
            "4\n",
            "5\n",
            "6\n",
            "7\n",
            "8\n",
            "9\n"
          ]
        }
      ]
    },
    {
      "cell_type": "code",
      "source": [
        "for al in range(1,11):\n",
        "  print(al)\n"
      ],
      "metadata": {
        "id": "Zr9EW29u1lkh"
      },
      "execution_count": null,
      "outputs": []
    },
    {
      "cell_type": "code",
      "source": [
        "for x in range(2, 30, 3):\n",
        "  print(x)"
      ],
      "metadata": {
        "colab": {
          "base_uri": "https://localhost:8080/"
        },
        "id": "4LieWap_OG_q",
        "outputId": "672d77c1-11e3-4350-90ac-3fff2c5ca376"
      },
      "execution_count": null,
      "outputs": [
        {
          "output_type": "stream",
          "name": "stdout",
          "text": [
            "2\n",
            "5\n",
            "8\n",
            "11\n",
            "14\n",
            "17\n",
            "20\n",
            "23\n",
            "26\n",
            "29\n"
          ]
        }
      ]
    },
    {
      "cell_type": "code",
      "source": [
        "mylist = [2, 11, 15.0, \"alina\", True, False, ]\n",
        "for x in mylist:\n",
        "  print(x)\n",
        "  if(x== \"alina\"):\n",
        "    break\n",
        "  #print(x) alina will not get printed"
      ],
      "metadata": {
        "colab": {
          "base_uri": "https://localhost:8080/"
        },
        "id": "IqOO90sr0mgC",
        "outputId": "ad77cdd2-9848-4360-916c-eb7a6181c08c"
      },
      "execution_count": null,
      "outputs": [
        {
          "output_type": "stream",
          "name": "stdout",
          "text": [
            "2\n",
            "11\n",
            "15.0\n",
            "alina\n"
          ]
        }
      ]
    },
    {
      "cell_type": "code",
      "source": [
        "#nested\n",
        "for i in range(1,3):\n",
        "  for j in range(1,11):\n",
        "    print(i, j)\n"
      ],
      "metadata": {
        "id": "3_2E85AqOLOj"
      },
      "execution_count": null,
      "outputs": []
    },
    {
      "cell_type": "code",
      "source": [
        "adj = [\"fresh\", \"big\", \"tasty\"]\n",
        "fruits = [\"apple\", \"banana\", \"cherry\"]\n",
        "\n",
        "for x in adj:\n",
        "  for y in fruits:\n",
        "    print(x, y)"
      ],
      "metadata": {
        "id": "GT4ueKwPO1iM"
      },
      "execution_count": null,
      "outputs": []
    }
  ]
}