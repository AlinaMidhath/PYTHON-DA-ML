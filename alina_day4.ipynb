{
  "nbformat": 4,
  "nbformat_minor": 0,
  "metadata": {
    "colab": {
      "provenance": [],
      "authorship_tag": "ABX9TyMCNi9+RvkrFmKTiyyPTiz9",
      "include_colab_link": true
    },
    "kernelspec": {
      "name": "python3",
      "display_name": "Python 3"
    },
    "language_info": {
      "name": "python"
    }
  },
  "cells": [
    {
      "cell_type": "markdown",
      "metadata": {
        "id": "view-in-github",
        "colab_type": "text"
      },
      "source": [
        "<a href=\"https://colab.research.google.com/github/AlinaMidhath/PYTHON-DA-ML/blob/main/alina_day4.ipynb\" target=\"_parent\"><img src=\"https://colab.research.google.com/assets/colab-badge.svg\" alt=\"Open In Colab\"/></a>"
      ]
    },
    {
      "cell_type": "markdown",
      "source": [
        "**FUNCTIONS**\n"
      ],
      "metadata": {
        "id": "6sXtMXOJiRLc"
      }
    },
    {
      "cell_type": "markdown",
      "source": [
        "PARAMETERS AND ARGUEMENTS\n"
      ],
      "metadata": {
        "id": "YcJMfnR3z_i4"
      }
    },
    {
      "cell_type": "markdown",
      "source": [
        "A parameter is the variable listed inside() in function definition\n",
        "an arguement is a value that is sent to the funtion when it is called\n"
      ],
      "metadata": {
        "id": "6uIaNFL_0Knn"
      }
    },
    {
      "cell_type": "code",
      "source": [
        "def func():# function definition\n",
        "  print(\"hello\")\n",
        "func() #function call"
      ],
      "metadata": {
        "colab": {
          "base_uri": "https://localhost:8080/"
        },
        "id": "P-eTYzbxilrT",
        "outputId": "bc1e58df-5fa0-4fab-907b-8de3589f9d21"
      },
      "execution_count": null,
      "outputs": [
        {
          "output_type": "stream",
          "name": "stdout",
          "text": [
            "hello\n"
          ]
        }
      ]
    },
    {
      "cell_type": "code",
      "source": [
        "def func_1(arg):\n",
        "  print(arg + \"day 4\")\n",
        "func_1(\"hi its \")#passing arguement\n",
        "#func_1(3) cant use this since + cant concatinate string and int"
      ],
      "metadata": {
        "colab": {
          "base_uri": "https://localhost:8080/"
        },
        "id": "fw58Tu1Ck6vO",
        "outputId": "2dd41fba-1b47-4421-a8b2-42fc4dc76669"
      },
      "execution_count": null,
      "outputs": [
        {
          "output_type": "stream",
          "name": "stdout",
          "text": [
            "hi its day 4\n"
          ]
        }
      ]
    },
    {
      "cell_type": "code",
      "source": [
        "def func_2(a,b):\n",
        "  print(a +b)\n",
        "  #print(a + \" \" + b)#for this we need to pass only str in the function call because of \"\"\n",
        "func_2(4 , 5)\n",
        "func_2(\"hello\", \"hi\")\n",
        "func_2([1, 2, 3] , [4, 5, 6])\n",
        "#func_2({1, 2, 3}, {4, 5, 6})\n",
        "func_2((1, 2, 3), (4, 5, 6))"
      ],
      "metadata": {
        "colab": {
          "base_uri": "https://localhost:8080/"
        },
        "id": "1RS8TRbMmgPy",
        "outputId": "ae231e13-46ae-4923-ca0e-50a1f6580c44"
      },
      "execution_count": null,
      "outputs": [
        {
          "output_type": "stream",
          "name": "stdout",
          "text": [
            "9\n",
            "hellohi\n",
            "[1, 2, 3, 4, 5, 6]\n",
            "(1, 2, 3, 4, 5, 6)\n"
          ]
        }
      ]
    },
    {
      "cell_type": "code",
      "source": [
        "def func_3(*height): #to take any no of arguements\n",
        "  print(\"the first height is: \" + str(height[0]))\n",
        "  print(\"the last height is: \" + str(height[-1]))\n",
        "\n",
        "func_3(12,13,14,15)"
      ],
      "metadata": {
        "colab": {
          "base_uri": "https://localhost:8080/"
        },
        "id": "MOJugUr8nN3-",
        "outputId": "b5521ee3-9e48-4dbb-9ff6-926c7546d86b"
      },
      "execution_count": null,
      "outputs": [
        {
          "output_type": "stream",
          "name": "stdout",
          "text": [
            "the first height is: 12\n",
            "the last height is: 15\n"
          ]
        }
      ]
    },
    {
      "cell_type": "code",
      "source": [
        "def func_4(name , grade, section):\n",
        "  print(name + \" \" + str(grade) + \" \" + section)\n",
        "\n",
        "func_4(\"alina\", 3 , \"A\")\n",
        "func_4(name = \"alina\", section = \"A \", grade =  3)"
      ],
      "metadata": {
        "colab": {
          "base_uri": "https://localhost:8080/"
        },
        "id": "-79BSk1kpo80",
        "outputId": "d7ebb063-af9e-4076-b842-9b9ed0307df6"
      },
      "execution_count": null,
      "outputs": [
        {
          "output_type": "stream",
          "name": "stdout",
          "text": [
            "alina 3 A\n",
            "alina 3 A \n"
          ]
        }
      ]
    },
    {
      "cell_type": "code",
      "source": [
        "def func_5(name = \"alina\"):\n",
        "  print(\"hi my name is \" +name)\n",
        "\n",
        "func_5()\n",
        "func_5(\"midhath\")"
      ],
      "metadata": {
        "colab": {
          "base_uri": "https://localhost:8080/"
        },
        "id": "MfnEe1CxstL7",
        "outputId": "eb36c2d2-698f-44c0-ae5e-459dab20b973"
      },
      "execution_count": null,
      "outputs": [
        {
          "output_type": "stream",
          "name": "stdout",
          "text": [
            "hi my name is alina\n",
            "hi my name is midhath\n"
          ]
        }
      ]
    },
    {
      "cell_type": "code",
      "source": [
        "def func_6(a):  #passing string as arguement\n",
        "  for x in a:\n",
        "    print(x)\n",
        "  print(a)\n",
        "\n",
        "my_list=[2, 3, 4,]\n",
        "func_6(my_list)"
      ],
      "metadata": {
        "colab": {
          "base_uri": "https://localhost:8080/"
        },
        "id": "81vFle83tUk4",
        "outputId": "2b6c9498-5a72-413b-98e1-4ae7d58f716e"
      },
      "execution_count": null,
      "outputs": [
        {
          "output_type": "stream",
          "name": "stdout",
          "text": [
            "2\n",
            "3\n",
            "4\n",
            "[2, 3, 4]\n"
          ]
        }
      ]
    },
    {
      "cell_type": "code",
      "source": [
        "def func_7(a):#function to print the square\n",
        "  print(a*a)\n",
        "  # return a ** 2\n",
        "\n",
        "\n",
        "func_7(2)\n",
        "num =int(input(\"enter the no. you want the square of: \"))\n",
        "func_7(num)\n",
        "#print(func_7(3))"
      ],
      "metadata": {
        "colab": {
          "base_uri": "https://localhost:8080/"
        },
        "id": "NfIA2ga6vP2p",
        "outputId": "cae1f737-434a-49ea-ac7f-04f11c8e8e58"
      },
      "execution_count": null,
      "outputs": [
        {
          "output_type": "stream",
          "name": "stdout",
          "text": [
            "4\n",
            "enter the no. you want the square of: 44\n",
            "1936\n"
          ]
        }
      ]
    },
    {
      "cell_type": "code",
      "source": [
        "\n",
        "def mult(n):\n",
        "  for i in range(1,11):\n",
        "    print(n, \"x\", i ,\"=\", n*i) #instead of type casting we are using ,\n",
        "mult(9)"
      ],
      "metadata": {
        "colab": {
          "base_uri": "https://localhost:8080/"
        },
        "id": "ghOjlRQMyA9g",
        "outputId": "e524fb94-b43c-4d78-c11c-c5e6746081a5"
      },
      "execution_count": null,
      "outputs": [
        {
          "output_type": "stream",
          "name": "stdout",
          "text": [
            "9 x 1 = 9\n",
            "9 x 2 = 18\n",
            "9 x 3 = 27\n",
            "9 x 4 = 36\n",
            "9 x 5 = 45\n",
            "9 x 6 = 54\n",
            "9 x 7 = 63\n",
            "9 x 8 = 72\n",
            "9 x 9 = 81\n",
            "9 x 10 = 90\n"
          ]
        }
      ]
    },
    {
      "cell_type": "code",
      "source": [
        "def evenodd(n):\n",
        "  # if (n % 2 == 0):\n",
        "  #   print(\"even\")\n",
        "  # else:\n",
        "  #   print(\"odd\")\n",
        "  print(\"even\") if (n % 2 == 0) else print(\"odd\") # short hand notation\n",
        "evenodd(10)"
      ],
      "metadata": {
        "id": "KJLlsef646h0",
        "colab": {
          "base_uri": "https://localhost:8080/"
        },
        "outputId": "d1027884-c028-459d-deac-1fb6869f4bb9"
      },
      "execution_count": null,
      "outputs": [
        {
          "output_type": "stream",
          "name": "stdout",
          "text": [
            "even\n"
          ]
        }
      ]
    },
    {
      "cell_type": "markdown",
      "source": [
        "**LAMBDA FUNCTIONS**"
      ],
      "metadata": {
        "id": "kmVcLeKV1KHT"
      }
    },
    {
      "cell_type": "code",
      "source": [
        "x = lambda a : a+5\n",
        "print(x(5))"
      ],
      "metadata": {
        "colab": {
          "base_uri": "https://localhost:8080/"
        },
        "id": "4u_YApuM1JXg",
        "outputId": "1f56d25e-a396-436c-b7d5-111170f935f9"
      },
      "execution_count": null,
      "outputs": [
        {
          "output_type": "stream",
          "name": "stdout",
          "text": [
            "10\n"
          ]
        }
      ]
    },
    {
      "cell_type": "code",
      "source": [
        "x = lambda a,b : a + b\n",
        "print(x(2,3))"
      ],
      "metadata": {
        "colab": {
          "base_uri": "https://localhost:8080/"
        },
        "id": "WXXy-ikg2D6W",
        "outputId": "1c26273a-72c1-41f1-e11b-170e73e156ad"
      },
      "execution_count": null,
      "outputs": [
        {
          "output_type": "stream",
          "name": "stdout",
          "text": [
            "5\n"
          ]
        }
      ]
    },
    {
      "cell_type": "code",
      "source": [
        "x = lambda a,b : a * b\n",
        "print(x(2,3))"
      ],
      "metadata": {
        "colab": {
          "base_uri": "https://localhost:8080/"
        },
        "id": "aco5ZVms2Pr9",
        "outputId": "ca61157e-7ecc-47b2-e8f2-17a213d6356b"
      },
      "execution_count": null,
      "outputs": [
        {
          "output_type": "stream",
          "name": "stdout",
          "text": [
            "6\n"
          ]
        }
      ]
    },
    {
      "cell_type": "code",
      "source": [
        "def my_funct(n):\n",
        "  return lambda a : a - n\n",
        "mult = my_funct(3)\n",
        "print(mult(100))"
      ],
      "metadata": {
        "colab": {
          "base_uri": "https://localhost:8080/"
        },
        "id": "4xoles2e3AYv",
        "outputId": "1b2d8df8-e4d2-47a0-85ce-52f6ed7d6afc"
      },
      "execution_count": null,
      "outputs": [
        {
          "output_type": "stream",
          "name": "stdout",
          "text": [
            "97\n"
          ]
        }
      ]
    },
    {
      "cell_type": "code",
      "source": [
        "def newdiv(n):\n",
        "  return lambda x : x/n\n",
        "div = newdiv(2)\n",
        "print(div(10))"
      ],
      "metadata": {
        "colab": {
          "base_uri": "https://localhost:8080/"
        },
        "id": "xSfHO6hc5byy",
        "outputId": "5e5839e3-4bd7-48bd-81c6-1cbf3cc9800e"
      },
      "execution_count": null,
      "outputs": [
        {
          "output_type": "stream",
          "name": "stdout",
          "text": [
            "5.0\n"
          ]
        }
      ]
    },
    {
      "cell_type": "code",
      "source": [
        "def sqr():\n",
        "  return lambda x : x*x\n",
        "pow = sqr()\n",
        "print(pow(3))"
      ],
      "metadata": {
        "colab": {
          "base_uri": "https://localhost:8080/"
        },
        "id": "F6zZ2lx558p-",
        "outputId": "3977b45f-52c0-446f-cfa4-9f6b63af855d"
      },
      "execution_count": null,
      "outputs": [
        {
          "output_type": "stream",
          "name": "stdout",
          "text": [
            "9\n"
          ]
        }
      ]
    },
    {
      "cell_type": "code",
      "source": [
        "def myfunc(n):\n",
        "  return lambda a : a * n\n",
        "\n",
        "mydoubler = myfunc(2)\n",
        "mytripler = myfunc(3)\n",
        "\n",
        "print(mydoubler(11))\n",
        "print(mytripler(11))\n"
      ],
      "metadata": {
        "id": "bnZZdGwt8DuI",
        "colab": {
          "base_uri": "https://localhost:8080/"
        },
        "outputId": "3c71ab0d-a53a-495c-89c7-6c8154061960"
      },
      "execution_count": null,
      "outputs": [
        {
          "output_type": "stream",
          "name": "stdout",
          "text": [
            "22\n",
            "33\n"
          ]
        }
      ]
    },
    {
      "cell_type": "markdown",
      "source": [
        "**REGEX - REGULAR EXPRESSIONS**"
      ],
      "metadata": {
        "id": "gDID7muP3xBd"
      }
    },
    {
      "cell_type": "markdown",
      "source": [
        "A RegEx, or Regular Expression, is a sequence of characters that forms a search pattern.\n",
        "\n",
        "RegEx can be used to check if a string contains the specified search pattern."
      ],
      "metadata": {
        "id": "NJaZi2sY35Br"
      }
    },
    {
      "cell_type": "markdown",
      "source": [
        "Python has a built-in package called re, which can be used to work with Regular Expressions.\n",
        "\n",
        "Import the re module:"
      ],
      "metadata": {
        "id": "ke3PkYU04ASx"
      }
    },
    {
      "cell_type": "markdown",
      "source": [
        "FINDALL  FUNCTION -Returns a list containing all matches"
      ],
      "metadata": {
        "id": "nAIXg36X4bWq"
      }
    },
    {
      "cell_type": "markdown",
      "source": [
        "METACHARACTERA are the characters with special meaning"
      ],
      "metadata": {
        "id": "Qstpz1ju49mj"
      }
    },
    {
      "cell_type": "code",
      "source": [
        "import re\n",
        "text = \"there are 9 mangoes in all\"\n",
        "x = re.findall(\"\\d \", text)\n",
        "print (x)"
      ],
      "metadata": {
        "colab": {
          "base_uri": "https://localhost:8080/"
        },
        "id": "G4gHTpOQ3weR",
        "outputId": "af15e15d-ee85-4636-eb5a-bd4aa1a73271"
      },
      "execution_count": null,
      "outputs": [
        {
          "output_type": "stream",
          "name": "stdout",
          "text": [
            "['9 ']\n"
          ]
        }
      ]
    },
    {
      "cell_type": "code",
      "source": [
        "x = re.findall(\"^t\" , text)\n",
        "if x:\n",
        "  print(\"Yes the string starts with t\")\n",
        "else:\n",
        "  print(\"no\")"
      ],
      "metadata": {
        "colab": {
          "base_uri": "https://localhost:8080/"
        },
        "id": "a6cWC-tq8gsn",
        "outputId": "84c66dd7-c6a1-434e-d76b-b2685bb9746f"
      },
      "execution_count": null,
      "outputs": [
        {
          "output_type": "stream",
          "name": "stdout",
          "text": [
            "Yes the string starts with t\n"
          ]
        }
      ]
    },
    {
      "cell_type": "code",
      "source": [
        "x = re.findall(\"m.....s\", text)# to find dot no of(here 4) characters b/n m and s\n",
        "print(x)"
      ],
      "metadata": {
        "colab": {
          "base_uri": "https://localhost:8080/"
        },
        "id": "pnl-Zpzl9gJH",
        "outputId": "6d64048a-c3d3-42f0-8995-df1f309ef46e"
      },
      "execution_count": null,
      "outputs": [
        {
          "output_type": "stream",
          "name": "stdout",
          "text": [
            "['mangoes']\n"
          ]
        }
      ]
    },
    {
      "cell_type": "code",
      "source": [
        "x = re.findall(\"mang.*s\",text)# to find 0 or more characters b/n m and s\n",
        "print(x)"
      ],
      "metadata": {
        "colab": {
          "base_uri": "https://localhost:8080/"
        },
        "id": "w1X2b388-D2O",
        "outputId": "83e71d75-fee2-4c6e-eef6-d086edd9769c"
      },
      "execution_count": null,
      "outputs": [
        {
          "output_type": "stream",
          "name": "stdout",
          "text": [
            "['mangoes']\n"
          ]
        }
      ]
    },
    {
      "cell_type": "code",
      "source": [
        "x = re.findall(\"m.+s\",text)# to find one or more characters b/n m and s\n",
        "print(x)"
      ],
      "metadata": {
        "colab": {
          "base_uri": "https://localhost:8080/"
        },
        "id": "SeTIHYqv-VmQ",
        "outputId": "d87b4586-99ed-4e01-b873-4fde8c6172d7"
      },
      "execution_count": null,
      "outputs": [
        {
          "output_type": "stream",
          "name": "stdout",
          "text": [
            "['mangoes']\n"
          ]
        }
      ]
    },
    {
      "cell_type": "code",
      "source": [
        "x = re.findall(\"apples|mangoes\", text) # checks if it contains either apples or mangoes\n",
        "if x:\n",
        "  print(\"either of them is present\")\n",
        "else:\n",
        "  print(\"no match found\")"
      ],
      "metadata": {
        "colab": {
          "base_uri": "https://localhost:8080/"
        },
        "id": "8fogaTAY_7Mm",
        "outputId": "dc52a4fa-6e82-4ff6-eef4-9f1f0095fb35"
      },
      "execution_count": null,
      "outputs": [
        {
          "output_type": "stream",
          "name": "stdout",
          "text": [
            "either of them is present\n"
          ]
        }
      ]
    },
    {
      "cell_type": "code",
      "source": [
        "x = re. findall (\"\\Athe\" , text)\n",
        "if x:\n",
        "  print(\"true\")\n",
        "else:\n",
        "  print(\"false\")"
      ],
      "metadata": {
        "colab": {
          "base_uri": "https://localhost:8080/"
        },
        "id": "KogrV0jdAfKk",
        "outputId": "256fb96f-42b6-484b-86a1-1f11c8eb5992"
      },
      "execution_count": null,
      "outputs": [
        {
          "output_type": "stream",
          "name": "stdout",
          "text": [
            "true\n"
          ]
        }
      ]
    },
    {
      "cell_type": "code",
      "source": [
        "x = re.findall(\"\\bere\" , text) #Check if \"ere\" is present at the beginning of a WORD:\n",
        "if x:\n",
        "  print(\"true\")\n",
        "else:\n",
        "  print(\"false\")\n"
      ],
      "metadata": {
        "colab": {
          "base_uri": "https://localhost:8080/"
        },
        "id": "vbA1RO-FA0gR",
        "outputId": "677b6568-e96c-40c3-ebb6-a345d398ab4a"
      },
      "execution_count": null,
      "outputs": [
        {
          "output_type": "stream",
          "name": "stdout",
          "text": [
            "false\n"
          ]
        }
      ]
    },
    {
      "cell_type": "code",
      "source": [
        "x = re.findall(h\"ere\\b\" , text) #Check if \"ere\" is present at the end of a WORD:\n",
        "if x:\n",
        "  print(\"true\")#DOUBTTT\n",
        "else:\n",
        "  print(\"false\")\n"
      ],
      "metadata": {
        "id": "YeM6_V9qBWrM"
      },
      "execution_count": null,
      "outputs": []
    },
    {
      "cell_type": "code",
      "source": [
        "x = re.findall(\"\\d\" ,text)\n",
        "print(x)\n",
        "if x:\n",
        "  print(\"true\")\n",
        "else:\n",
        "  print(\"false\")\n",
        "\n"
      ],
      "metadata": {
        "colab": {
          "base_uri": "https://localhost:8080/"
        },
        "id": "PqekCNOGCPr5",
        "outputId": "7fc5975c-39d8-4494-dd6b-708468f57c83"
      },
      "execution_count": null,
      "outputs": [
        {
          "output_type": "stream",
          "name": "stdout",
          "text": [
            "['9']\n",
            "true\n"
          ]
        }
      ]
    },
    {
      "cell_type": "code",
      "source": [
        "x = re.findall(\"[0-5][0-9]\" , text)# checks two digit nos from 00 to 59\n",
        "print(x)"
      ],
      "metadata": {
        "colab": {
          "base_uri": "https://localhost:8080/"
        },
        "id": "07FmjdKXCe8H",
        "outputId": "135587e3-46c8-46a0-b32d-57235389fde0"
      },
      "execution_count": null,
      "outputs": [
        {
          "output_type": "stream",
          "name": "stdout",
          "text": [
            "[]\n"
          ]
        }
      ]
    },
    {
      "cell_type": "markdown",
      "source": [
        "SEARCH FUNCTION"
      ],
      "metadata": {
        "id": "ELiCZrmQDk5v"
      }
    },
    {
      "cell_type": "markdown",
      "source": [
        "The search() function searches the string for a match, and returns a Match object if there is a match.\n",
        "\n",
        "If there is more than one match, only the first occurrence of the match will be returned:"
      ],
      "metadata": {
        "id": "Bg4SD3m4EO_3"
      }
    },
    {
      "cell_type": "code",
      "source": [
        "txt = \"There are 9 or 49 apples here\"\n",
        "y = re.search(\"\\s\" , txt)\n",
        "print(y)\n",
        "print(\"the first space is found at:\",y.start())\n"
      ],
      "metadata": {
        "colab": {
          "base_uri": "https://localhost:8080/"
        },
        "id": "YqM_zgGwDEAy",
        "outputId": "8a219bf2-bbce-4987-e9b3-a20d5ec6a7fc"
      },
      "execution_count": null,
      "outputs": [
        {
          "output_type": "stream",
          "name": "stdout",
          "text": [
            "<re.Match object; span=(5, 6), match=' '>\n",
            "the first space is found at: 5\n"
          ]
        }
      ]
    },
    {
      "cell_type": "code",
      "source": [
        "y = re.search(\"\\d\" , txt ,2) # no use of two bcs search func prints only the first occurance\n",
        "print(y)\n",
        "y = re.findall(\"\\d\" , txt ,2)\n",
        "print(y)\n",
        "y = re.findall(\"[0-5][0-9]\" , txt)\n",
        "print(y)"
      ],
      "metadata": {
        "colab": {
          "base_uri": "https://localhost:8080/"
        },
        "id": "_7386U1IFAJq",
        "outputId": "d7b42b50-5a66-405a-ff25-f5f97d3dcf01"
      },
      "execution_count": null,
      "outputs": [
        {
          "output_type": "stream",
          "name": "stdout",
          "text": [
            "<re.Match object; span=(10, 11), match='9'>\n",
            "['9', '4', '9']\n",
            "['49']\n"
          ]
        }
      ]
    },
    {
      "cell_type": "code",
      "source": [
        "y = re.search(\"[app]\",txt, 1)\n",
        "print(txt)"
      ],
      "metadata": {
        "colab": {
          "base_uri": "https://localhost:8080/"
        },
        "id": "68WATlH1GL5h",
        "outputId": "65aac5fa-8524-4859-b6cc-8766f4ba52f9"
      },
      "execution_count": null,
      "outputs": [
        {
          "output_type": "stream",
          "name": "stdout",
          "text": [
            "There are 9 or 49 apples here\n"
          ]
        }
      ]
    },
    {
      "cell_type": "markdown",
      "source": [
        "SPLIT FUNCTION"
      ],
      "metadata": {
        "id": "WQm9oR57HHCA"
      }
    },
    {
      "cell_type": "markdown",
      "source": [
        "The split() function returns a list where the string has been split at each match"
      ],
      "metadata": {
        "id": "bYtlUBAZHJiO"
      }
    },
    {
      "cell_type": "code",
      "source": [
        "text = \"There are 9  or 49 apples here\"\n",
        "z = re.split(\"\\s\" ,text)\n",
        "print(z)"
      ],
      "metadata": {
        "colab": {
          "base_uri": "https://localhost:8080/"
        },
        "id": "DTrGdNFsHPLT",
        "outputId": "0f32eba8-de99-4b34-cccf-869e80dd76b2"
      },
      "execution_count": null,
      "outputs": [
        {
          "output_type": "stream",
          "name": "stdout",
          "text": [
            "['There', 'are', '9', '', 'or', '49', 'apples', 'here']\n"
          ]
        }
      ]
    },
    {
      "cell_type": "code",
      "source": [
        "z = re.split(\"\\d\" ,text)\n",
        "print(z)"
      ],
      "metadata": {
        "colab": {
          "base_uri": "https://localhost:8080/"
        },
        "id": "SRHdVJzkHkuG",
        "outputId": "93942ba5-2fed-4bb6-980f-f52476477ed4"
      },
      "execution_count": null,
      "outputs": [
        {
          "output_type": "stream",
          "name": "stdout",
          "text": [
            "['There are ', '  or ', '', ' apples here']\n"
          ]
        }
      ]
    },
    {
      "cell_type": "code",
      "source": [
        "z = re.split(\"\\d\" ,text , 1)\n",
        "print(z)"
      ],
      "metadata": {
        "colab": {
          "base_uri": "https://localhost:8080/"
        },
        "id": "u8mkjZ6iII0D",
        "outputId": "8c430d78-fd4d-4c4b-8810-73b4bed56b66"
      },
      "execution_count": null,
      "outputs": [
        {
          "output_type": "stream",
          "name": "stdout",
          "text": [
            "['There are ', '  or 49 apples here']\n"
          ]
        }
      ]
    },
    {
      "cell_type": "code",
      "source": [
        "z = re.split(\"\\s\" ,text ,2)\n",
        "print(z)"
      ],
      "metadata": {
        "colab": {
          "base_uri": "https://localhost:8080/"
        },
        "id": "Rb8aNQ3KInuW",
        "outputId": "9053da6a-d029-4ae8-9828-2573d084edc5"
      },
      "execution_count": null,
      "outputs": [
        {
          "output_type": "stream",
          "name": "stdout",
          "text": [
            "['There', 'are', '9  or 49 apples here']\n"
          ]
        }
      ]
    },
    {
      "cell_type": "code",
      "source": [
        "z = re.split(\"\\s\" ,text, 1)\n",
        "print(z)"
      ],
      "metadata": {
        "colab": {
          "base_uri": "https://localhost:8080/"
        },
        "id": "-RB38tjjIwYZ",
        "outputId": "e1600588-d891-4b72-dc34-be5dba31a2b8"
      },
      "execution_count": null,
      "outputs": [
        {
          "output_type": "stream",
          "name": "stdout",
          "text": [
            "['There', 'are 9  or 49 apples here']\n"
          ]
        }
      ]
    },
    {
      "cell_type": "markdown",
      "source": [
        "SUB FUNCTION"
      ],
      "metadata": {
        "id": "BUrr3E3wJDRs"
      }
    },
    {
      "cell_type": "markdown",
      "source": [
        "The sub() function replaces the matches with the text of your choice:"
      ],
      "metadata": {
        "id": "MfSM0va0JGfp"
      }
    },
    {
      "cell_type": "code",
      "source": [
        "text = \"There are 9 or 49 apples here\"\n",
        "w = re.sub(\"\\s\",\"%\", text)\n",
        "print(w)"
      ],
      "metadata": {
        "colab": {
          "base_uri": "https://localhost:8080/"
        },
        "id": "LzPHNPd6I1cN",
        "outputId": "010b8ac2-b53c-4530-8c22-2956fc90b6ce"
      },
      "execution_count": null,
      "outputs": [
        {
          "output_type": "stream",
          "name": "stdout",
          "text": [
            "There%are%9%or%49%apples%here\n"
          ]
        }
      ]
    },
    {
      "cell_type": "code",
      "source": [
        "text = \"There are 9 or 49 apples here\"\n",
        "w = re.sub(\"\\s\",\"%\", text ,2)\n",
        "print(w)"
      ],
      "metadata": {
        "colab": {
          "base_uri": "https://localhost:8080/"
        },
        "id": "dtAh8EJzKcns",
        "outputId": "5304026d-7ca2-47a5-b06d-bfb946cf03d7"
      },
      "execution_count": null,
      "outputs": [
        {
          "output_type": "stream",
          "name": "stdout",
          "text": [
            "There%are%9 or 49 apples here\n"
          ]
        }
      ]
    },
    {
      "cell_type": "code",
      "source": [
        "text = \"There are 9 or 49 apples here\"\n",
        "w = re.sub(\"\\d\",\"%\", text)\n",
        "print(w)"
      ],
      "metadata": {
        "colab": {
          "base_uri": "https://localhost:8080/"
        },
        "id": "GoWiZOyAKgwG",
        "outputId": "45338a9b-2b23-40ff-8495-4c63eed1b5dd"
      },
      "execution_count": null,
      "outputs": [
        {
          "output_type": "stream",
          "name": "stdout",
          "text": [
            "There are % or %% apples here\n"
          ]
        }
      ]
    },
    {
      "cell_type": "code",
      "source": [
        "text = \"There are 9 or 49 apples here\"\n",
        "w = re.sub(\"\\d\",\"%\", text ,1)\n",
        "print(w)"
      ],
      "metadata": {
        "colab": {
          "base_uri": "https://localhost:8080/"
        },
        "id": "zr-gRC1HKkrk",
        "outputId": "a5131cc7-2814-40cd-eb9b-ebc849452e25"
      },
      "execution_count": null,
      "outputs": [
        {
          "output_type": "stream",
          "name": "stdout",
          "text": [
            "There are % or 49 apples here\n"
          ]
        }
      ]
    },
    {
      "cell_type": "code",
      "source": [
        "text = \"There are 9 or 49 apples here\"\n",
        "w = re.sub(\"a\",\"%\", text)\n",
        "print(w)"
      ],
      "metadata": {
        "colab": {
          "base_uri": "https://localhost:8080/"
        },
        "id": "RIf4_ujHKqcv",
        "outputId": "1cf4c118-66fb-4e9b-e76d-6950268495d1"
      },
      "execution_count": null,
      "outputs": [
        {
          "output_type": "stream",
          "name": "stdout",
          "text": [
            "There %re 9 or 49 %pples here\n"
          ]
        }
      ]
    },
    {
      "cell_type": "markdown",
      "source": [
        "MATCH OBJECT"
      ],
      "metadata": {
        "id": "gFd8-JKeK5jl"
      }
    },
    {
      "cell_type": "markdown",
      "source": [
        "A Match Object is an object containing information about the search and the result.\n",
        "\n",
        "Note: If there is no match, the value None will be returned, instead of the Match Object."
      ],
      "metadata": {
        "id": "paxBCUnGK8RM"
      }
    },
    {
      "cell_type": "code",
      "source": [
        "text = \"There are 9 or 49 apples here\"\n",
        "v = # ask mam"
      ],
      "metadata": {
        "id": "XGm5oqlcLC5O"
      },
      "execution_count": null,
      "outputs": []
    },
    {
      "cell_type": "markdown",
      "source": [
        "TO CHECK IF THE PASSWORD IS STRONG OR NOT"
      ],
      "metadata": {
        "id": "Z8vKmi_PLO1b"
      }
    },
    {
      "cell_type": "code",
      "source": [
        "import re\n",
        "def password(arg):\n",
        "  b = 0\n",
        "  for s in arg:\n",
        "    b +=1\n",
        "  if b >= 8:\n",
        "   x= re.findall(\"[A-Z]\" , arg)\n",
        "   if x:\n",
        "     u = re.findall(\"\\s\" , arg)\n",
        "     if u:\n",
        "       y = re.findall(\"[!,@,#,$,%,^,&,*,(,)]\", arg)\n",
        "       if y:\n",
        "         z =re.findall(\"\\d\",arg)\n",
        "         return True\n",
        "       else:\n",
        "         return False\n",
        "     else:\n",
        "       return False\n",
        "   else:\n",
        "     return False\n",
        "  else:\n",
        "    return False\n",
        "\n",
        "\n",
        "print(\"Make sure your password contains upper case , space, undersscore, numbers and atleast 8 characters\")\n",
        "n = input(\"Enter the password: \")\n",
        "a = password(n)\n",
        "if a:\n",
        "  print(\"You entered a strong password\")\n",
        "else:\n",
        "  print(\"You entered a weak password\")\n",
        "\n"
      ],
      "metadata": {
        "colab": {
          "base_uri": "https://localhost:8080/"
        },
        "id": "hNOdqr-8LOYV",
        "outputId": "d4f9e479-fefa-4f5f-bb89-aa9c0bc0a3c6"
      },
      "execution_count": null,
      "outputs": [
        {
          "output_type": "stream",
          "name": "stdout",
          "text": [
            "Make sure your password contains upper case , space, undersscore, numbers and atleast 8 characters\n",
            "Enter the password: Alina@123 4\n",
            "You entered a strong password\n"
          ]
        }
      ]
    },
    {
      "cell_type": "code",
      "source": [],
      "metadata": {
        "id": "_eXsWNM_PQeV"
      },
      "execution_count": null,
      "outputs": []
    }
  ]
}